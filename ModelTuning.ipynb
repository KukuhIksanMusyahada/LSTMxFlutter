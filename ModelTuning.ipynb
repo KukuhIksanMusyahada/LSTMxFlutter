{
 "cells": [
  {
   "cell_type": "markdown",
   "id": "bfcff619-2968-4500-8fe8-7cb859584e3d",
   "metadata": {},
   "source": [
    "## Make Sure you already activated GPU before running this code\n",
    "\n",
    "### Before y"
   ]
  },
  {
   "cell_type": "code",
   "execution_count": 35,
   "id": "529bbf1b-0b79-4171-b82d-a55a4a92577d",
   "metadata": {},
   "outputs": [],
   "source": [
    "import os\n",
    "import numpy\n",
    "import importlib\n",
    "import pandas as pd\n",
    "\n",
    "from TA_LSTMxFlutter.essential import global_params as gp\n",
    "from TA_LSTMxFlutter.essential import path_handling as ph\n",
    "from TA_LSTMxFlutter.Data_Processing import data_processing as dp\n",
    "from TA_LSTMxFlutter.Data_Processing import helping_functions as hf\n",
    "from TA_LSTMxFlutter.Data_Processing import training_prep as tp\n",
    "from TA_LSTMxFlutter.Training import models\n",
    "from TA_LSTMxFlutter.Plotting import models_plot as mp"
   ]
  },
  {
   "cell_type": "code",
   "execution_count": 11,
   "id": "550c3aa2-3a25-41ef-a9e5-d97e5be60dda",
   "metadata": {},
   "outputs": [],
   "source": [
    "# Preparation\n",
    "\n",
    "##Initialize directory\n",
    "ph.InitDataDirectories()\n",
    "#initialize variable\n",
    "max_cases = len(gp.CASES)\n",
    "max_model_cases = len(gp.CASES_MODELS)\n",
    "max_vf_cases = len(gp.VF_CASE)\n"
   ]
  },
  {
   "cell_type": "code",
   "execution_count": 26,
   "id": "cd723382-fcb0-4d07-b37f-7d51e58f7e0f",
   "metadata": {},
   "outputs": [
    {
     "data": {
      "text/plain": [
       "<module 'TA_LSTMxFlutter.Training.models' from 'C:\\\\Users\\\\User\\\\Desktop\\\\Jupyter\\\\TA\\\\TA_LSTMxFlutter\\\\Training\\\\models.py'>"
      ]
     },
     "execution_count": 26,
     "metadata": {},
     "output_type": "execute_result"
    }
   ],
   "source": [
    "importlib.reload(gp)\n",
    "importlib.reload(dp)\n",
    "importlib.reload(tp)\n",
    "importlib.reload(ph)\n",
    "importlib.reload(models)"
   ]
  },
  {
   "cell_type": "code",
   "execution_count": 12,
   "id": "50cbcee8-daa9-4f8f-9ca1-55d8bbffd7a9",
   "metadata": {},
   "outputs": [],
   "source": [
    "# Data Processing\n",
    "dp.data_process()\n",
    "listDF= dp.GetListTrainData()\n",
    "df= listDF[0]\n"
   ]
  },
  {
   "cell_type": "code",
   "execution_count": 13,
   "id": "aa40f301-6590-44ec-be59-3adabb929197",
   "metadata": {},
   "outputs": [
    {
     "name": "stdout",
     "output_type": "stream",
     "text": [
      "df shape is (4000, 8)\n",
      "train_df shape is (3200, 8)\n",
      "val_df shape is (800, 8)\n",
      "train features shape is (40, 1, 8)\n",
      "train labels shape is (40, 1, 8)\n",
      "val features shape is (40, 1, 8)\n",
      "val labels shape is (40, 1, 8)\n"
     ]
    }
   ],
   "source": [
    "# training_preparation\n",
    "\n",
    "df_norm, df_params = tp.df_norm(df, minmax= True)\n",
    "train_df, val_df, test_df, num_features = tp.train_val_split(df_norm)\n",
    "print(f'df shape is {df.shape}')\n",
    "print(f'train_df shape is {train_df.shape}')\n",
    "print(f'val_df shape is {val_df.shape}')\n",
    "\n",
    "window= tp.WindowGenerator(input_width=1, label_width=1, shift=1,\n",
    "                           train_df = train_df, val_df= val_df,\n",
    "                           label_columns=None, batch_size= 40)\n",
    "train = window.train\n",
    "val = window.val\n",
    "\n",
    "features, labels = next(iter(train))\n",
    "print (f'train features shape is {features.shape}')\n",
    "print (f'train labels shape is {labels.shape}')\n",
    "\n",
    "val_features, val_labels = next(iter(val))\n",
    "print (f'val features shape is {val_features.shape}')\n",
    "print (f'val labels shape is {val_labels.shape}')"
   ]
  },
  {
   "cell_type": "markdown",
   "id": "0a232efe-7238-4401-977a-c78ebee63544",
   "metadata": {},
   "source": [
    "Cell Tuning"
   ]
  },
  {
   "cell_type": "code",
   "execution_count": null,
   "id": "30acff79-1c98-4258-9e62-6f940f4597a4",
   "metadata": {},
   "outputs": [],
   "source": [
    "max_epochs= 100\n",
    "def UjiCellLSTM(n:int, epochs= max_epochs, train_data= train, val_data= val):\n",
    "    tf.keras.backend.clear_session()\n",
    "    model= tf.keras.models.Sequential([\n",
    "    tf.keras.layers.LSTM(n),\n",
    "        tf.keras.layers.Dense(8),\n",
    "    ])\n",
    "    model.compile(\n",
    "    loss= tf.keras.losses.Huber(),\n",
    "    optimizer= tf.keras.optimizers.SGD(),\n",
    "    metrics=['mae']\n",
    "    )\n",
    "    history= model.fit(train_data, epochs= max_epochs, validation_data= val_data, verbose=0)\n",
    "    \n",
    "    return history"
   ]
  },
  {
   "cell_type": "code",
   "execution_count": null,
   "id": "31b888b0-5f2d-439d-ab37-83ef32d6086b",
   "metadata": {},
   "outputs": [],
   "source": [
    "num_cell = np.arange(50,1050,50)\n",
    "history_mae = []\n",
    "history_val_mae= []\n",
    "history_loss = []\n",
    "history_val_loss=[]\n",
    "for cell in num_cell:\n",
    "    history = UjiCellLSTM(cell)\n",
    "    history_mae.append(history.history['mae'])\n",
    "    history_val_mae.append(history.history['val_mae'])\n",
    "    history_loss.append(history.history['loss'])\n",
    "    history_val_loss.append(history.history['val_loss'])"
   ]
  },
  {
   "cell_type": "markdown",
   "id": "83039007-2f3d-4b8d-b3ff-7856fa701959",
   "metadata": {},
   "source": [
    "As we did before! we already got the best cell number is around 500-800.  \n",
    "Then we already got that the best layer is only 1 layer of LSTM."
   ]
  },
  {
   "cell_type": "code",
   "execution_count": 6,
   "id": "5636999d-e7bd-4ae4-aa4d-88a98641e30d",
   "metadata": {},
   "outputs": [],
   "source": [
    "import tensorflow as tf\n",
    "import keras"
   ]
  },
  {
   "cell_type": "markdown",
   "id": "a8b34916-d76c-4ad2-b06a-627326788d11",
   "metadata": {},
   "source": [
    "Layer Tuning"
   ]
  },
  {
   "cell_type": "code",
   "execution_count": null,
   "id": "c59ffe92-be3b-45bd-bf97-1e91eb7ed581",
   "metadata": {},
   "outputs": [],
   "source": [
    "#training\n",
    "tf.keras.backend.clear_session()\n",
    "\n",
    "model1 = tf.keras.models.Sequential([\n",
    "  tf.keras.layers.LSTM(750),\n",
    "  tf.keras.layers.Dense(8),\n",
    "])\n",
    "\n",
    "optimizer = tf.keras.optimizers.SGD()\n",
    "model1.compile(loss=tf.keras.losses.Huber(),\n",
    "              optimizer=optimizer,\n",
    "              metrics=[\"mae\"])\n",
    "history1 = model1.fit(train, epochs=100, validation_data = val)"
   ]
  },
  {
   "cell_type": "code",
   "execution_count": null,
   "id": "109e2372-fa24-425c-b4a0-286754abdcf2",
   "metadata": {},
   "outputs": [],
   "source": [
    "model2 = tf.keras.models.Sequential([\n",
    "  tf.keras.layers.LSTM(750, return_sequences= True),\n",
    "  tf.keras.layers.LSTM(750, return_sequences= True),\n",
    "  tf.keras.layers.Dense(8),\n",
    "])\n",
    "\n",
    "optimizer = tf.keras.optimizers.SGD()\n",
    "model2.compile(loss=tf.keras.losses.Huber(),\n",
    "              optimizer=optimizer,\n",
    "              metrics=[\"mae\"])\n",
    "history2 = model2.fit(train, epochs=100, validation_data= val)"
   ]
  },
  {
   "cell_type": "code",
   "execution_count": null,
   "id": "01b4d51b-30a1-4781-8da2-3d93c808bc47",
   "metadata": {},
   "outputs": [],
   "source": [
    "model3 = tf.keras.models.Sequential([\n",
    "  tf.keras.layers.LSTM(750, return_sequences= True),\n",
    "  tf.keras.layers.LSTM(750, return_sequences= True),\n",
    "  tf.keras.layers.LSTM(750, return_sequences= True),\n",
    "  tf.keras.layers.Dense(8),\n",
    "])\n",
    "\n",
    "optimizer = tf.keras.optimizers.SGD()\n",
    "model3.compile(loss=tf.keras.losses.Huber(),\n",
    "              optimizer=optimizer,\n",
    "              metrics=[\"mae\"])\n",
    "history3 = model3.fit(train, epochs=100, validation_data= val)"
   ]
  },
  {
   "cell_type": "code",
   "execution_count": null,
   "id": "b46ae2f3-627b-4ea5-9cfd-e8a54a73ee9c",
   "metadata": {},
   "outputs": [],
   "source": [
    "model4 = tf.keras.models.Sequential([\n",
    "  tf.keras.layers.LSTM(750, return_sequences= True),\n",
    "  tf.keras.layers.LSTM(750, return_sequences= True),\n",
    "  tf.keras.layers.LSTM(750, return_sequences= True),\n",
    "  tf.keras.layers.LSTM(750, return_sequences= True),\n",
    "  tf.keras.layers.Dense(8),\n",
    "])\n",
    "\n",
    "optimizer = tf.keras.optimizers.SGD()\n",
    "model4.compile(loss=tf.keras.losses.Huber(),\n",
    "              optimizer=optimizer,\n",
    "              metrics=[\"mae\"])\n",
    "history4 = model4.fit(train, epochs=100, validation_data= val)"
   ]
  },
  {
   "cell_type": "code",
   "execution_count": null,
   "id": "67069c7b-35e3-4030-8670-6c860642c4e4",
   "metadata": {},
   "outputs": [],
   "source": [
    "model5 = tf.keras.models.Sequential([\n",
    "  tf.keras.layers.LSTM(750, return_sequences= True),\n",
    "  tf.keras.layers.LSTM(750, return_sequences= True),\n",
    "  tf.keras.layers.LSTM(750, return_sequences= True),\n",
    "  tf.keras.layers.LSTM(750, return_sequences= True),\n",
    "  tf.keras.layers.LSTM(750, return_sequences= True),\n",
    "  tf.keras.layers.Dense(8),\n",
    "])\n",
    "\n",
    "optimizer = tf.keras.optimizers.SGD()\n",
    "model5.compile(loss=tf.keras.losses.Huber(),\n",
    "              optimizer=optimizer,\n",
    "              metrics=[\"mae\"])\n",
    "history5 = model5.fit(train, epochs=100, validation_data= val)"
   ]
  },
  {
   "cell_type": "markdown",
   "id": "08caeefd-a883-410c-8ecb-54620ace2751",
   "metadata": {},
   "source": [
    "Add bidirectional"
   ]
  },
  {
   "cell_type": "code",
   "execution_count": 8,
   "id": "7cb7a94a-c54f-4bbe-bbf2-aa5fb1653bb8",
   "metadata": {
    "collapsed": true,
    "jupyter": {
     "outputs_hidden": true
    },
    "tags": []
   },
   "outputs": [
    {
     "name": "stdout",
     "output_type": "stream",
     "text": [
      "Epoch 1/100\n",
      "80/80 [==============================] - 20s 111ms/step - loss: 0.2263 - mae: 0.6206 - val_loss: 0.2069 - val_mae: 0.5946\n",
      "Epoch 2/100\n",
      "80/80 [==============================] - 8s 95ms/step - loss: 0.1565 - mae: 0.5133 - val_loss: 0.1434 - val_mae: 0.4930\n",
      "Epoch 3/100\n",
      "80/80 [==============================] - 9s 110ms/step - loss: 0.1080 - mae: 0.4244 - val_loss: 0.0989 - val_mae: 0.4071\n",
      "Epoch 4/100\n",
      "80/80 [==============================] - 9s 108ms/step - loss: 0.0744 - mae: 0.3508 - val_loss: 0.0678 - val_mae: 0.3345\n",
      "Epoch 5/100\n",
      "80/80 [==============================] - 8s 105ms/step - loss: 0.0514 - mae: 0.2900 - val_loss: 0.0464 - val_mae: 0.2744\n",
      "Epoch 6/100\n",
      "80/80 [==============================] - 8s 104ms/step - loss: 0.0359 - mae: 0.2405 - val_loss: 0.0317 - val_mae: 0.2259\n",
      "Epoch 7/100\n",
      "80/80 [==============================] - 8s 95ms/step - loss: 0.0255 - mae: 0.2003 - val_loss: 0.0219 - val_mae: 0.1864\n",
      "Epoch 8/100\n",
      "80/80 [==============================] - 9s 108ms/step - loss: 0.0188 - mae: 0.1681 - val_loss: 0.0153 - val_mae: 0.1544\n",
      "Epoch 9/100\n",
      "80/80 [==============================] - 9s 109ms/step - loss: 0.0144 - mae: 0.1426 - val_loss: 0.0109 - val_mae: 0.1286\n",
      "Epoch 10/100\n",
      "80/80 [==============================] - 9s 110ms/step - loss: 0.0117 - mae: 0.1227 - val_loss: 0.0080 - val_mae: 0.1079\n",
      "Epoch 11/100\n",
      "80/80 [==============================] - 8s 97ms/step - loss: 0.0099 - mae: 0.1072 - val_loss: 0.0061 - val_mae: 0.0915\n",
      "Epoch 12/100\n",
      "80/80 [==============================] - 7s 93ms/step - loss: 0.0088 - mae: 0.0954 - val_loss: 0.0048 - val_mae: 0.0787\n",
      "Epoch 13/100\n",
      "80/80 [==============================] - 8s 97ms/step - loss: 0.0081 - mae: 0.0865 - val_loss: 0.0040 - val_mae: 0.0688\n",
      "Epoch 14/100\n",
      "80/80 [==============================] - 7s 92ms/step - loss: 0.0077 - mae: 0.0804 - val_loss: 0.0034 - val_mae: 0.0612\n",
      "Epoch 15/100\n",
      "80/80 [==============================] - 8s 105ms/step - loss: 0.0074 - mae: 0.0766 - val_loss: 0.0030 - val_mae: 0.0555\n",
      "Epoch 16/100\n",
      "80/80 [==============================] - 10s 124ms/step - loss: 0.0073 - mae: 0.0743 - val_loss: 0.0027 - val_mae: 0.0514\n",
      "Epoch 17/100\n",
      "80/80 [==============================] - 11s 140ms/step - loss: 0.0072 - mae: 0.0729 - val_loss: 0.0025 - val_mae: 0.0484\n",
      "Epoch 18/100\n",
      "80/80 [==============================] - 9s 119ms/step - loss: 0.0071 - mae: 0.0721 - val_loss: 0.0024 - val_mae: 0.0462\n",
      "Epoch 19/100\n",
      "80/80 [==============================] - 7s 93ms/step - loss: 0.0070 - mae: 0.0716 - val_loss: 0.0023 - val_mae: 0.0446\n",
      "Epoch 20/100\n",
      "80/80 [==============================] - 9s 111ms/step - loss: 0.0070 - mae: 0.0713 - val_loss: 0.0022 - val_mae: 0.0435\n",
      "Epoch 21/100\n",
      "80/80 [==============================] - 9s 109ms/step - loss: 0.0070 - mae: 0.0710 - val_loss: 0.0021 - val_mae: 0.0427\n",
      "Epoch 22/100\n",
      "80/80 [==============================] - 8s 94ms/step - loss: 0.0070 - mae: 0.0709 - val_loss: 0.0021 - val_mae: 0.0421\n",
      "Epoch 23/100\n",
      "80/80 [==============================] - 7s 93ms/step - loss: 0.0070 - mae: 0.0708 - val_loss: 0.0021 - val_mae: 0.0416\n",
      "Epoch 24/100\n",
      "80/80 [==============================] - 8s 98ms/step - loss: 0.0069 - mae: 0.0707 - val_loss: 0.0020 - val_mae: 0.0413\n",
      "Epoch 25/100\n",
      "80/80 [==============================] - 7s 91ms/step - loss: 0.0069 - mae: 0.0706 - val_loss: 0.0020 - val_mae: 0.0410\n",
      "Epoch 26/100\n",
      "80/80 [==============================] - 8s 106ms/step - loss: 0.0069 - mae: 0.0705 - val_loss: 0.0020 - val_mae: 0.0408\n",
      "Epoch 27/100\n",
      "80/80 [==============================] - 8s 98ms/step - loss: 0.0069 - mae: 0.0705 - val_loss: 0.0020 - val_mae: 0.0407\n",
      "Epoch 28/100\n",
      "80/80 [==============================] - 8s 94ms/step - loss: 0.0069 - mae: 0.0704 - val_loss: 0.0020 - val_mae: 0.0405\n",
      "Epoch 29/100\n",
      "80/80 [==============================] - 7s 93ms/step - loss: 0.0069 - mae: 0.0704 - val_loss: 0.0020 - val_mae: 0.0404\n",
      "Epoch 30/100\n",
      "80/80 [==============================] - 7s 87ms/step - loss: 0.0069 - mae: 0.0703 - val_loss: 0.0020 - val_mae: 0.0404\n",
      "Epoch 31/100\n",
      "80/80 [==============================] - 7s 87ms/step - loss: 0.0068 - mae: 0.0703 - val_loss: 0.0019 - val_mae: 0.0403\n",
      "Epoch 32/100\n",
      "80/80 [==============================] - 7s 89ms/step - loss: 0.0068 - mae: 0.0702 - val_loss: 0.0019 - val_mae: 0.0402\n",
      "Epoch 33/100\n",
      "80/80 [==============================] - 7s 89ms/step - loss: 0.0068 - mae: 0.0701 - val_loss: 0.0019 - val_mae: 0.0402\n",
      "Epoch 34/100\n",
      "80/80 [==============================] - 7s 88ms/step - loss: 0.0068 - mae: 0.0701 - val_loss: 0.0019 - val_mae: 0.0401\n",
      "Epoch 35/100\n",
      "80/80 [==============================] - 7s 88ms/step - loss: 0.0068 - mae: 0.0700 - val_loss: 0.0019 - val_mae: 0.0401\n",
      "Epoch 36/100\n",
      "80/80 [==============================] - 7s 86ms/step - loss: 0.0068 - mae: 0.0700 - val_loss: 0.0019 - val_mae: 0.0400\n",
      "Epoch 37/100\n",
      "80/80 [==============================] - 7s 88ms/step - loss: 0.0068 - mae: 0.0699 - val_loss: 0.0019 - val_mae: 0.0400\n",
      "Epoch 38/100\n",
      "80/80 [==============================] - 7s 85ms/step - loss: 0.0068 - mae: 0.0699 - val_loss: 0.0019 - val_mae: 0.0399\n",
      "Epoch 39/100\n",
      "80/80 [==============================] - 7s 86ms/step - loss: 0.0067 - mae: 0.0698 - val_loss: 0.0019 - val_mae: 0.0399\n",
      "Epoch 40/100\n",
      "80/80 [==============================] - 7s 87ms/step - loss: 0.0067 - mae: 0.0698 - val_loss: 0.0019 - val_mae: 0.0399\n",
      "Epoch 41/100\n",
      "80/80 [==============================] - 7s 90ms/step - loss: 0.0067 - mae: 0.0697 - val_loss: 0.0019 - val_mae: 0.0398\n",
      "Epoch 42/100\n",
      "80/80 [==============================] - 7s 88ms/step - loss: 0.0067 - mae: 0.0697 - val_loss: 0.0019 - val_mae: 0.0398\n",
      "Epoch 43/100\n",
      "80/80 [==============================] - 7s 87ms/step - loss: 0.0067 - mae: 0.0696 - val_loss: 0.0019 - val_mae: 0.0397\n",
      "Epoch 44/100\n",
      "80/80 [==============================] - 7s 85ms/step - loss: 0.0067 - mae: 0.0696 - val_loss: 0.0019 - val_mae: 0.0397\n",
      "Epoch 45/100\n",
      "80/80 [==============================] - 7s 88ms/step - loss: 0.0067 - mae: 0.0695 - val_loss: 0.0019 - val_mae: 0.0397\n",
      "Epoch 46/100\n",
      "80/80 [==============================] - 7s 86ms/step - loss: 0.0067 - mae: 0.0695 - val_loss: 0.0019 - val_mae: 0.0396\n",
      "Epoch 47/100\n",
      "80/80 [==============================] - 7s 87ms/step - loss: 0.0066 - mae: 0.0694 - val_loss: 0.0019 - val_mae: 0.0396\n",
      "Epoch 48/100\n",
      "80/80 [==============================] - 7s 87ms/step - loss: 0.0066 - mae: 0.0694 - val_loss: 0.0019 - val_mae: 0.0396\n",
      "Epoch 49/100\n",
      "80/80 [==============================] - 7s 87ms/step - loss: 0.0066 - mae: 0.0693 - val_loss: 0.0019 - val_mae: 0.0395\n",
      "Epoch 50/100\n",
      "80/80 [==============================] - 7s 87ms/step - loss: 0.0066 - mae: 0.0693 - val_loss: 0.0019 - val_mae: 0.0395\n",
      "Epoch 51/100\n",
      "80/80 [==============================] - 7s 90ms/step - loss: 0.0066 - mae: 0.0692 - val_loss: 0.0019 - val_mae: 0.0395\n",
      "Epoch 52/100\n",
      "80/80 [==============================] - 7s 86ms/step - loss: 0.0066 - mae: 0.0691 - val_loss: 0.0018 - val_mae: 0.0394\n",
      "Epoch 53/100\n",
      "80/80 [==============================] - 7s 88ms/step - loss: 0.0066 - mae: 0.0691 - val_loss: 0.0018 - val_mae: 0.0394\n",
      "Epoch 54/100\n",
      "80/80 [==============================] - 7s 87ms/step - loss: 0.0066 - mae: 0.0690 - val_loss: 0.0018 - val_mae: 0.0394\n",
      "Epoch 55/100\n",
      "80/80 [==============================] - 7s 86ms/step - loss: 0.0065 - mae: 0.0690 - val_loss: 0.0018 - val_mae: 0.0393\n",
      "Epoch 56/100\n",
      "80/80 [==============================] - 7s 87ms/step - loss: 0.0065 - mae: 0.0689 - val_loss: 0.0018 - val_mae: 0.0393\n",
      "Epoch 57/100\n",
      "80/80 [==============================] - 7s 89ms/step - loss: 0.0065 - mae: 0.0689 - val_loss: 0.0018 - val_mae: 0.0393\n",
      "Epoch 58/100\n",
      "80/80 [==============================] - 7s 89ms/step - loss: 0.0065 - mae: 0.0688 - val_loss: 0.0018 - val_mae: 0.0392\n",
      "Epoch 59/100\n",
      "80/80 [==============================] - 7s 87ms/step - loss: 0.0065 - mae: 0.0688 - val_loss: 0.0018 - val_mae: 0.0392\n",
      "Epoch 60/100\n",
      "80/80 [==============================] - 7s 92ms/step - loss: 0.0065 - mae: 0.0687 - val_loss: 0.0018 - val_mae: 0.0392\n",
      "Epoch 61/100\n",
      "80/80 [==============================] - 7s 87ms/step - loss: 0.0065 - mae: 0.0687 - val_loss: 0.0018 - val_mae: 0.0391\n",
      "Epoch 62/100\n",
      "80/80 [==============================] - 7s 86ms/step - loss: 0.0065 - mae: 0.0686 - val_loss: 0.0018 - val_mae: 0.0391\n",
      "Epoch 63/100\n",
      "80/80 [==============================] - 7s 87ms/step - loss: 0.0064 - mae: 0.0686 - val_loss: 0.0018 - val_mae: 0.0391\n",
      "Epoch 64/100\n",
      "80/80 [==============================] - 7s 86ms/step - loss: 0.0064 - mae: 0.0685 - val_loss: 0.0018 - val_mae: 0.0390\n",
      "Epoch 65/100\n",
      "80/80 [==============================] - 7s 88ms/step - loss: 0.0064 - mae: 0.0685 - val_loss: 0.0018 - val_mae: 0.0390\n",
      "Epoch 66/100\n",
      "80/80 [==============================] - 7s 88ms/step - loss: 0.0064 - mae: 0.0684 - val_loss: 0.0018 - val_mae: 0.0390\n",
      "Epoch 67/100\n",
      "80/80 [==============================] - 7s 87ms/step - loss: 0.0064 - mae: 0.0684 - val_loss: 0.0018 - val_mae: 0.0389\n",
      "Epoch 68/100\n",
      "80/80 [==============================] - 7s 91ms/step - loss: 0.0064 - mae: 0.0683 - val_loss: 0.0018 - val_mae: 0.0389\n",
      "Epoch 69/100\n",
      "80/80 [==============================] - 7s 91ms/step - loss: 0.0064 - mae: 0.0683 - val_loss: 0.0018 - val_mae: 0.0389\n",
      "Epoch 70/100\n",
      "80/80 [==============================] - 7s 88ms/step - loss: 0.0064 - mae: 0.0682 - val_loss: 0.0018 - val_mae: 0.0388\n",
      "Epoch 71/100\n",
      "80/80 [==============================] - 7s 89ms/step - loss: 0.0063 - mae: 0.0682 - val_loss: 0.0018 - val_mae: 0.0388\n",
      "Epoch 72/100\n",
      "80/80 [==============================] - 7s 89ms/step - loss: 0.0063 - mae: 0.0681 - val_loss: 0.0018 - val_mae: 0.0388\n",
      "Epoch 73/100\n",
      "80/80 [==============================] - 7s 87ms/step - loss: 0.0063 - mae: 0.0681 - val_loss: 0.0018 - val_mae: 0.0387\n",
      "Epoch 74/100\n",
      "80/80 [==============================] - 7s 88ms/step - loss: 0.0063 - mae: 0.0680 - val_loss: 0.0018 - val_mae: 0.0387\n",
      "Epoch 75/100\n",
      "80/80 [==============================] - 7s 89ms/step - loss: 0.0063 - mae: 0.0680 - val_loss: 0.0018 - val_mae: 0.0387\n",
      "Epoch 76/100\n",
      "80/80 [==============================] - 7s 88ms/step - loss: 0.0063 - mae: 0.0679 - val_loss: 0.0018 - val_mae: 0.0386\n",
      "Epoch 77/100\n",
      "80/80 [==============================] - 7s 89ms/step - loss: 0.0063 - mae: 0.0678 - val_loss: 0.0017 - val_mae: 0.0386\n",
      "Epoch 78/100\n",
      "80/80 [==============================] - 7s 91ms/step - loss: 0.0063 - mae: 0.0678 - val_loss: 0.0017 - val_mae: 0.0386\n",
      "Epoch 79/100\n",
      "80/80 [==============================] - 7s 90ms/step - loss: 0.0062 - mae: 0.0677 - val_loss: 0.0017 - val_mae: 0.0385\n",
      "Epoch 80/100\n",
      "80/80 [==============================] - 7s 88ms/step - loss: 0.0062 - mae: 0.0677 - val_loss: 0.0017 - val_mae: 0.0385\n",
      "Epoch 81/100\n",
      "80/80 [==============================] - 7s 89ms/step - loss: 0.0062 - mae: 0.0676 - val_loss: 0.0017 - val_mae: 0.0385\n",
      "Epoch 82/100\n",
      "80/80 [==============================] - 7s 88ms/step - loss: 0.0062 - mae: 0.0676 - val_loss: 0.0017 - val_mae: 0.0384\n",
      "Epoch 83/100\n",
      "80/80 [==============================] - 7s 88ms/step - loss: 0.0062 - mae: 0.0675 - val_loss: 0.0017 - val_mae: 0.0384\n",
      "Epoch 84/100\n",
      "80/80 [==============================] - 7s 89ms/step - loss: 0.0062 - mae: 0.0675 - val_loss: 0.0017 - val_mae: 0.0384\n",
      "Epoch 85/100\n",
      "80/80 [==============================] - 7s 90ms/step - loss: 0.0062 - mae: 0.0674 - val_loss: 0.0017 - val_mae: 0.0384\n",
      "Epoch 86/100\n",
      "80/80 [==============================] - 7s 89ms/step - loss: 0.0062 - mae: 0.0674 - val_loss: 0.0017 - val_mae: 0.0383\n",
      "Epoch 87/100\n",
      "80/80 [==============================] - 7s 91ms/step - loss: 0.0062 - mae: 0.0673 - val_loss: 0.0017 - val_mae: 0.0383\n",
      "Epoch 88/100\n",
      "80/80 [==============================] - 7s 88ms/step - loss: 0.0061 - mae: 0.0673 - val_loss: 0.0017 - val_mae: 0.0383\n",
      "Epoch 89/100\n",
      "80/80 [==============================] - 7s 90ms/step - loss: 0.0061 - mae: 0.0672 - val_loss: 0.0017 - val_mae: 0.0382\n",
      "Epoch 90/100\n",
      "80/80 [==============================] - 7s 90ms/step - loss: 0.0061 - mae: 0.0672 - val_loss: 0.0017 - val_mae: 0.0382\n",
      "Epoch 91/100\n",
      "80/80 [==============================] - 7s 90ms/step - loss: 0.0061 - mae: 0.0671 - val_loss: 0.0017 - val_mae: 0.0382\n",
      "Epoch 92/100\n",
      "80/80 [==============================] - 7s 90ms/step - loss: 0.0061 - mae: 0.0671 - val_loss: 0.0017 - val_mae: 0.0381\n",
      "Epoch 93/100\n",
      "80/80 [==============================] - 7s 88ms/step - loss: 0.0061 - mae: 0.0670 - val_loss: 0.0017 - val_mae: 0.0381\n",
      "Epoch 94/100\n",
      "80/80 [==============================] - 7s 89ms/step - loss: 0.0061 - mae: 0.0670 - val_loss: 0.0017 - val_mae: 0.0381\n",
      "Epoch 95/100\n",
      "80/80 [==============================] - 7s 92ms/step - loss: 0.0061 - mae: 0.0669 - val_loss: 0.0017 - val_mae: 0.0380\n",
      "Epoch 96/100\n",
      "80/80 [==============================] - 8s 95ms/step - loss: 0.0060 - mae: 0.0669 - val_loss: 0.0017 - val_mae: 0.0380\n",
      "Epoch 97/100\n",
      "80/80 [==============================] - 7s 92ms/step - loss: 0.0060 - mae: 0.0668 - val_loss: 0.0017 - val_mae: 0.0380\n",
      "Epoch 98/100\n",
      "80/80 [==============================] - 7s 92ms/step - loss: 0.0060 - mae: 0.0668 - val_loss: 0.0017 - val_mae: 0.0379\n",
      "Epoch 99/100\n",
      "80/80 [==============================] - 7s 90ms/step - loss: 0.0060 - mae: 0.0667 - val_loss: 0.0017 - val_mae: 0.0379\n",
      "Epoch 100/100\n",
      "80/80 [==============================] - 7s 88ms/step - loss: 0.0060 - mae: 0.0667 - val_loss: 0.0017 - val_mae: 0.0379\n"
     ]
    }
   ],
   "source": [
    "model1 = tf.keras.models.Sequential([\n",
    "  tf.keras.layers.Bidirectional(tf.keras.layers.LSTM(750, return_sequences= True)),\n",
    "  tf.keras.layers.Dense(8),\n",
    "])\n",
    "optimizer = tf.keras.optimizers.SGD()\n",
    "model1.compile(loss=tf.keras.losses.Huber(),\n",
    "              optimizer=optimizer,\n",
    "              metrics=[\"mae\"])\n",
    "history1 = model1.fit(train, epochs=100, validation_data= val)"
   ]
  },
  {
   "cell_type": "code",
   "execution_count": 9,
   "id": "55e96b59-8c74-4132-a8e0-f6299b82e73e",
   "metadata": {
    "collapsed": true,
    "jupyter": {
     "outputs_hidden": true
    },
    "tags": []
   },
   "outputs": [
    {
     "name": "stdout",
     "output_type": "stream",
     "text": [
      "Epoch 1/100\n",
      "80/80 [==============================] - 44s 302ms/step - loss: 0.2439 - mae: 0.6435 - val_loss: 0.2392 - val_mae: 0.6400\n",
      "Epoch 2/100\n",
      "80/80 [==============================] - 22s 279ms/step - loss: 0.1936 - mae: 0.5718 - val_loss: 0.1914 - val_mae: 0.5715\n",
      "Epoch 3/100\n",
      "80/80 [==============================] - 22s 270ms/step - loss: 0.1540 - mae: 0.5087 - val_loss: 0.1535 - val_mae: 0.5105\n",
      "Epoch 4/100\n",
      "80/80 [==============================] - 22s 270ms/step - loss: 0.1227 - mae: 0.4531 - val_loss: 0.1232 - val_mae: 0.4561\n",
      "Epoch 5/100\n",
      "80/80 [==============================] - 22s 269ms/step - loss: 0.0979 - mae: 0.4042 - val_loss: 0.0990 - val_mae: 0.4076\n",
      "Epoch 6/100\n",
      "80/80 [==============================] - 22s 271ms/step - loss: 0.0784 - mae: 0.3610 - val_loss: 0.0798 - val_mae: 0.3644\n",
      "Epoch 7/100\n",
      "80/80 [==============================] - 22s 281ms/step - loss: 0.0630 - mae: 0.3229 - val_loss: 0.0644 - val_mae: 0.3259\n",
      "Epoch 8/100\n",
      "80/80 [==============================] - 22s 270ms/step - loss: 0.0509 - mae: 0.2895 - val_loss: 0.0522 - val_mae: 0.2916\n",
      "Epoch 9/100\n",
      "80/80 [==============================] - 21s 268ms/step - loss: 0.0414 - mae: 0.2601 - val_loss: 0.0424 - val_mae: 0.2620\n",
      "Epoch 10/100\n",
      "80/80 [==============================] - 21s 268ms/step - loss: 0.0340 - mae: 0.2342 - val_loss: 0.0346 - val_mae: 0.2360\n",
      "Epoch 11/100\n",
      "80/80 [==============================] - 22s 273ms/step - loss: 0.0282 - mae: 0.2115 - val_loss: 0.0284 - val_mae: 0.2131\n",
      "Epoch 12/100\n",
      "80/80 [==============================] - 21s 268ms/step - loss: 0.0236 - mae: 0.1917 - val_loss: 0.0235 - val_mae: 0.1929\n",
      "Epoch 13/100\n",
      "80/80 [==============================] - 21s 265ms/step - loss: 0.0201 - mae: 0.1743 - val_loss: 0.0195 - val_mae: 0.1751\n",
      "Epoch 14/100\n",
      "80/80 [==============================] - 22s 277ms/step - loss: 0.0173 - mae: 0.1591 - val_loss: 0.0164 - val_mae: 0.1593\n",
      "Epoch 15/100\n",
      "80/80 [==============================] - 21s 262ms/step - loss: 0.0152 - mae: 0.1458 - val_loss: 0.0139 - val_mae: 0.1455\n",
      "Epoch 16/100\n",
      "80/80 [==============================] - 21s 262ms/step - loss: 0.0135 - mae: 0.1344 - val_loss: 0.0118 - val_mae: 0.1333\n",
      "Epoch 17/100\n",
      "80/80 [==============================] - 23s 289ms/step - loss: 0.0122 - mae: 0.1244 - val_loss: 0.0102 - val_mae: 0.1225\n",
      "Epoch 18/100\n",
      "80/80 [==============================] - 23s 286ms/step - loss: 0.0112 - mae: 0.1160 - val_loss: 0.0089 - val_mae: 0.1131\n",
      "Epoch 19/100\n",
      "80/80 [==============================] - 22s 272ms/step - loss: 0.0105 - mae: 0.1087 - val_loss: 0.0078 - val_mae: 0.1048\n",
      "Epoch 20/100\n",
      "80/80 [==============================] - 24s 297ms/step - loss: 0.0099 - mae: 0.1025 - val_loss: 0.0070 - val_mae: 0.0975\n",
      "Epoch 21/100\n",
      "80/80 [==============================] - 23s 285ms/step - loss: 0.0094 - mae: 0.0971 - val_loss: 0.0063 - val_mae: 0.0911\n",
      "Epoch 22/100\n",
      "80/80 [==============================] - 21s 267ms/step - loss: 0.0091 - mae: 0.0924 - val_loss: 0.0057 - val_mae: 0.0855\n",
      "Epoch 23/100\n",
      "80/80 [==============================] - 22s 275ms/step - loss: 0.0088 - mae: 0.0886 - val_loss: 0.0052 - val_mae: 0.0806\n",
      "Epoch 24/100\n",
      "80/80 [==============================] - 21s 267ms/step - loss: 0.0086 - mae: 0.0856 - val_loss: 0.0049 - val_mae: 0.0764\n",
      "Epoch 25/100\n",
      "80/80 [==============================] - 21s 265ms/step - loss: 0.0084 - mae: 0.0832 - val_loss: 0.0045 - val_mae: 0.0728\n",
      "Epoch 26/100\n",
      "80/80 [==============================] - 22s 269ms/step - loss: 0.0083 - mae: 0.0814 - val_loss: 0.0043 - val_mae: 0.0697\n",
      "Epoch 27/100\n",
      "80/80 [==============================] - 22s 274ms/step - loss: 0.0082 - mae: 0.0800 - val_loss: 0.0041 - val_mae: 0.0670\n",
      "Epoch 28/100\n",
      "80/80 [==============================] - 21s 265ms/step - loss: 0.0081 - mae: 0.0789 - val_loss: 0.0039 - val_mae: 0.0647\n",
      "Epoch 29/100\n",
      "80/80 [==============================] - 21s 268ms/step - loss: 0.0081 - mae: 0.0781 - val_loss: 0.0037 - val_mae: 0.0629\n",
      "Epoch 30/100\n",
      "80/80 [==============================] - 21s 264ms/step - loss: 0.0080 - mae: 0.0775 - val_loss: 0.0036 - val_mae: 0.0613\n",
      "Epoch 31/100\n",
      "80/80 [==============================] - 21s 267ms/step - loss: 0.0080 - mae: 0.0770 - val_loss: 0.0035 - val_mae: 0.0599\n",
      "Epoch 32/100\n",
      "80/80 [==============================] - 22s 273ms/step - loss: 0.0080 - mae: 0.0766 - val_loss: 0.0034 - val_mae: 0.0588\n",
      "Epoch 33/100\n",
      "80/80 [==============================] - 21s 267ms/step - loss: 0.0080 - mae: 0.0763 - val_loss: 0.0033 - val_mae: 0.0578\n",
      "Epoch 34/100\n",
      "80/80 [==============================] - 22s 270ms/step - loss: 0.0079 - mae: 0.0761 - val_loss: 0.0033 - val_mae: 0.0569\n",
      "Epoch 35/100\n",
      "80/80 [==============================] - 22s 272ms/step - loss: 0.0079 - mae: 0.0759 - val_loss: 0.0032 - val_mae: 0.0562\n",
      "Epoch 36/100\n",
      "80/80 [==============================] - 21s 268ms/step - loss: 0.0079 - mae: 0.0757 - val_loss: 0.0032 - val_mae: 0.0556\n",
      "Epoch 37/100\n",
      "80/80 [==============================] - 22s 269ms/step - loss: 0.0079 - mae: 0.0756 - val_loss: 0.0031 - val_mae: 0.0551\n",
      "Epoch 38/100\n",
      "80/80 [==============================] - 22s 275ms/step - loss: 0.0079 - mae: 0.0755 - val_loss: 0.0031 - val_mae: 0.0546\n",
      "Epoch 39/100\n",
      "80/80 [==============================] - 21s 265ms/step - loss: 0.0079 - mae: 0.0754 - val_loss: 0.0030 - val_mae: 0.0542\n",
      "Epoch 40/100\n",
      "80/80 [==============================] - 26s 322ms/step - loss: 0.0079 - mae: 0.0753 - val_loss: 0.0030 - val_mae: 0.0539\n",
      "Epoch 41/100\n",
      "80/80 [==============================] - 30s 375ms/step - loss: 0.0079 - mae: 0.0752 - val_loss: 0.0030 - val_mae: 0.0536\n",
      "Epoch 42/100\n",
      "80/80 [==============================] - 23s 286ms/step - loss: 0.0079 - mae: 0.0752 - val_loss: 0.0030 - val_mae: 0.0534\n",
      "Epoch 43/100\n",
      "80/80 [==============================] - 29s 361ms/step - loss: 0.0079 - mae: 0.0751 - val_loss: 0.0030 - val_mae: 0.0531\n",
      "Epoch 44/100\n",
      "80/80 [==============================] - 30s 370ms/step - loss: 0.0079 - mae: 0.0751 - val_loss: 0.0029 - val_mae: 0.0529\n",
      "Epoch 45/100\n",
      "80/80 [==============================] - 24s 295ms/step - loss: 0.0079 - mae: 0.0751 - val_loss: 0.0029 - val_mae: 0.0528\n",
      "Epoch 46/100\n",
      "80/80 [==============================] - 22s 278ms/step - loss: 0.0079 - mae: 0.0750 - val_loss: 0.0029 - val_mae: 0.0526\n",
      "Epoch 47/100\n",
      "80/80 [==============================] - 27s 343ms/step - loss: 0.0079 - mae: 0.0750 - val_loss: 0.0029 - val_mae: 0.0525\n",
      "Epoch 48/100\n",
      "80/80 [==============================] - 25s 310ms/step - loss: 0.0079 - mae: 0.0750 - val_loss: 0.0029 - val_mae: 0.0524\n",
      "Epoch 49/100\n",
      "80/80 [==============================] - 27s 336ms/step - loss: 0.0079 - mae: 0.0750 - val_loss: 0.0029 - val_mae: 0.0523\n",
      "Epoch 50/100\n",
      "80/80 [==============================] - 21s 267ms/step - loss: 0.0079 - mae: 0.0750 - val_loss: 0.0029 - val_mae: 0.0522\n",
      "Epoch 51/100\n",
      "80/80 [==============================] - 25s 309ms/step - loss: 0.0079 - mae: 0.0749 - val_loss: 0.0029 - val_mae: 0.0521\n",
      "Epoch 52/100\n",
      "80/80 [==============================] - 22s 280ms/step - loss: 0.0079 - mae: 0.0749 - val_loss: 0.0029 - val_mae: 0.0520\n",
      "Epoch 53/100\n",
      "80/80 [==============================] - 22s 275ms/step - loss: 0.0079 - mae: 0.0749 - val_loss: 0.0029 - val_mae: 0.0520\n",
      "Epoch 54/100\n",
      "80/80 [==============================] - 23s 288ms/step - loss: 0.0079 - mae: 0.0749 - val_loss: 0.0029 - val_mae: 0.0519\n",
      "Epoch 55/100\n",
      "80/80 [==============================] - 23s 283ms/step - loss: 0.0079 - mae: 0.0749 - val_loss: 0.0029 - val_mae: 0.0519\n",
      "Epoch 56/100\n",
      "80/80 [==============================] - 22s 270ms/step - loss: 0.0079 - mae: 0.0749 - val_loss: 0.0029 - val_mae: 0.0518\n",
      "Epoch 57/100\n",
      "80/80 [==============================] - 25s 313ms/step - loss: 0.0079 - mae: 0.0749 - val_loss: 0.0028 - val_mae: 0.0518\n",
      "Epoch 58/100\n",
      "80/80 [==============================] - 22s 273ms/step - loss: 0.0079 - mae: 0.0749 - val_loss: 0.0028 - val_mae: 0.0518\n",
      "Epoch 59/100\n",
      "80/80 [==============================] - 22s 271ms/step - loss: 0.0079 - mae: 0.0749 - val_loss: 0.0028 - val_mae: 0.0517\n",
      "Epoch 60/100\n",
      "80/80 [==============================] - 22s 271ms/step - loss: 0.0079 - mae: 0.0748 - val_loss: 0.0028 - val_mae: 0.0517\n",
      "Epoch 61/100\n",
      "80/80 [==============================] - 25s 306ms/step - loss: 0.0079 - mae: 0.0748 - val_loss: 0.0028 - val_mae: 0.0517\n",
      "Epoch 62/100\n",
      "80/80 [==============================] - 24s 298ms/step - loss: 0.0079 - mae: 0.0748 - val_loss: 0.0028 - val_mae: 0.0517\n",
      "Epoch 63/100\n",
      "80/80 [==============================] - 23s 285ms/step - loss: 0.0079 - mae: 0.0748 - val_loss: 0.0028 - val_mae: 0.0517\n",
      "Epoch 64/100\n",
      "80/80 [==============================] - 21s 268ms/step - loss: 0.0079 - mae: 0.0748 - val_loss: 0.0028 - val_mae: 0.0516\n",
      "Epoch 65/100\n",
      "80/80 [==============================] - 22s 275ms/step - loss: 0.0079 - mae: 0.0748 - val_loss: 0.0028 - val_mae: 0.0516\n",
      "Epoch 66/100\n",
      "80/80 [==============================] - 22s 274ms/step - loss: 0.0079 - mae: 0.0748 - val_loss: 0.0028 - val_mae: 0.0516\n",
      "Epoch 67/100\n",
      "80/80 [==============================] - 23s 284ms/step - loss: 0.0079 - mae: 0.0748 - val_loss: 0.0028 - val_mae: 0.0516\n",
      "Epoch 68/100\n",
      "80/80 [==============================] - 22s 281ms/step - loss: 0.0079 - mae: 0.0748 - val_loss: 0.0028 - val_mae: 0.0516\n",
      "Epoch 69/100\n",
      "80/80 [==============================] - 22s 273ms/step - loss: 0.0079 - mae: 0.0748 - val_loss: 0.0028 - val_mae: 0.0516\n",
      "Epoch 70/100\n",
      "80/80 [==============================] - 22s 278ms/step - loss: 0.0079 - mae: 0.0748 - val_loss: 0.0028 - val_mae: 0.0516\n",
      "Epoch 71/100\n",
      "80/80 [==============================] - 21s 267ms/step - loss: 0.0079 - mae: 0.0748 - val_loss: 0.0028 - val_mae: 0.0516\n",
      "Epoch 72/100\n",
      "80/80 [==============================] - 23s 284ms/step - loss: 0.0079 - mae: 0.0748 - val_loss: 0.0028 - val_mae: 0.0515\n",
      "Epoch 73/100\n",
      "80/80 [==============================] - 27s 339ms/step - loss: 0.0079 - mae: 0.0748 - val_loss: 0.0028 - val_mae: 0.0515\n",
      "Epoch 74/100\n",
      "80/80 [==============================] - 30s 374ms/step - loss: 0.0078 - mae: 0.0748 - val_loss: 0.0028 - val_mae: 0.0515\n",
      "Epoch 75/100\n",
      "80/80 [==============================] - 27s 339ms/step - loss: 0.0078 - mae: 0.0748 - val_loss: 0.0028 - val_mae: 0.0515\n",
      "Epoch 76/100\n",
      "80/80 [==============================] - 26s 327ms/step - loss: 0.0078 - mae: 0.0747 - val_loss: 0.0028 - val_mae: 0.0515\n",
      "Epoch 77/100\n",
      "80/80 [==============================] - 27s 336ms/step - loss: 0.0078 - mae: 0.0747 - val_loss: 0.0028 - val_mae: 0.0515\n",
      "Epoch 78/100\n",
      "80/80 [==============================] - 26s 326ms/step - loss: 0.0078 - mae: 0.0747 - val_loss: 0.0028 - val_mae: 0.0515\n",
      "Epoch 79/100\n",
      "80/80 [==============================] - 24s 300ms/step - loss: 0.0078 - mae: 0.0747 - val_loss: 0.0028 - val_mae: 0.0515\n",
      "Epoch 80/100\n",
      "80/80 [==============================] - 23s 285ms/step - loss: 0.0078 - mae: 0.0747 - val_loss: 0.0028 - val_mae: 0.0515\n",
      "Epoch 81/100\n",
      "80/80 [==============================] - 24s 304ms/step - loss: 0.0078 - mae: 0.0747 - val_loss: 0.0028 - val_mae: 0.0515\n",
      "Epoch 82/100\n",
      "80/80 [==============================] - 24s 295ms/step - loss: 0.0078 - mae: 0.0747 - val_loss: 0.0028 - val_mae: 0.0515\n",
      "Epoch 83/100\n",
      "80/80 [==============================] - 23s 289ms/step - loss: 0.0078 - mae: 0.0747 - val_loss: 0.0028 - val_mae: 0.0515\n",
      "Epoch 84/100\n",
      "80/80 [==============================] - 26s 330ms/step - loss: 0.0078 - mae: 0.0747 - val_loss: 0.0028 - val_mae: 0.0515\n",
      "Epoch 85/100\n",
      "80/80 [==============================] - 24s 306ms/step - loss: 0.0078 - mae: 0.0747 - val_loss: 0.0028 - val_mae: 0.0514\n",
      "Epoch 86/100\n",
      "80/80 [==============================] - 24s 302ms/step - loss: 0.0078 - mae: 0.0747 - val_loss: 0.0028 - val_mae: 0.0514\n",
      "Epoch 87/100\n",
      "80/80 [==============================] - 24s 303ms/step - loss: 0.0078 - mae: 0.0747 - val_loss: 0.0028 - val_mae: 0.0514\n",
      "Epoch 88/100\n",
      "80/80 [==============================] - 25s 318ms/step - loss: 0.0078 - mae: 0.0747 - val_loss: 0.0028 - val_mae: 0.0514\n",
      "Epoch 89/100\n",
      "80/80 [==============================] - 24s 298ms/step - loss: 0.0078 - mae: 0.0747 - val_loss: 0.0028 - val_mae: 0.0514\n",
      "Epoch 90/100\n",
      "80/80 [==============================] - 26s 328ms/step - loss: 0.0078 - mae: 0.0747 - val_loss: 0.0028 - val_mae: 0.0514\n",
      "Epoch 91/100\n",
      "80/80 [==============================] - 29s 358ms/step - loss: 0.0078 - mae: 0.0747 - val_loss: 0.0028 - val_mae: 0.0514\n",
      "Epoch 92/100\n",
      "80/80 [==============================] - 36s 452ms/step - loss: 0.0078 - mae: 0.0747 - val_loss: 0.0028 - val_mae: 0.0514\n",
      "Epoch 93/100\n",
      "80/80 [==============================] - 27s 333ms/step - loss: 0.0078 - mae: 0.0747 - val_loss: 0.0028 - val_mae: 0.0514\n",
      "Epoch 94/100\n",
      "80/80 [==============================] - 29s 368ms/step - loss: 0.0078 - mae: 0.0746 - val_loss: 0.0028 - val_mae: 0.0514\n",
      "Epoch 95/100\n",
      "80/80 [==============================] - 26s 327ms/step - loss: 0.0078 - mae: 0.0746 - val_loss: 0.0028 - val_mae: 0.0514\n",
      "Epoch 96/100\n",
      "80/80 [==============================] - 25s 308ms/step - loss: 0.0078 - mae: 0.0746 - val_loss: 0.0028 - val_mae: 0.0514\n",
      "Epoch 97/100\n",
      "80/80 [==============================] - 25s 309ms/step - loss: 0.0078 - mae: 0.0746 - val_loss: 0.0028 - val_mae: 0.0514\n",
      "Epoch 98/100\n",
      "80/80 [==============================] - 24s 302ms/step - loss: 0.0078 - mae: 0.0746 - val_loss: 0.0028 - val_mae: 0.0514\n",
      "Epoch 99/100\n",
      "80/80 [==============================] - 35s 438ms/step - loss: 0.0078 - mae: 0.0746 - val_loss: 0.0028 - val_mae: 0.0514\n",
      "Epoch 100/100\n",
      "80/80 [==============================] - 25s 315ms/step - loss: 0.0078 - mae: 0.0746 - val_loss: 0.0028 - val_mae: 0.0514\n"
     ]
    }
   ],
   "source": [
    "model2 = tf.keras.models.Sequential([\n",
    "  tf.keras.layers.Bidirectional(tf.keras.layers.LSTM(750, return_sequences= True)),\n",
    "    tf.keras.layers.Bidirectional(tf.keras.layers.LSTM(750, return_sequences= True)),\n",
    "  tf.keras.layers.Dense(8),\n",
    "])\n",
    "optimizer = tf.keras.optimizers.SGD()\n",
    "model2.compile(loss=tf.keras.losses.Huber(),\n",
    "              optimizer=optimizer,\n",
    "              metrics=[\"mae\"])\n",
    "history2 = model2.fit(train, epochs=100, validation_data= val)"
   ]
  },
  {
   "cell_type": "code",
   "execution_count": 10,
   "id": "a4640bd7-5432-48a4-85b2-34d71d72b5ed",
   "metadata": {},
   "outputs": [],
   "source": [
    "optimizer = [tf.keras.optimizers.SGD(),tf.keras.optimizers.Adam(),tf.keras.optimizers.Adadelta(),\n",
    "             tf.keras.optimizers.Adagrad(), tf.keras.optimizers.Ftrl(), tf.keras.optimizers.Adamax(), tf.keras.optimizers.Nadam()]"
   ]
  },
  {
   "cell_type": "markdown",
   "id": "b273a063-df31-4bb8-af20-69370f8947b3",
   "metadata": {},
   "source": [
    "Optimizer Tuning"
   ]
  },
  {
   "cell_type": "code",
   "execution_count": 12,
   "id": "461b0e91-c8bc-4705-a5bb-029a6d93cc5a",
   "metadata": {},
   "outputs": [],
   "source": [
    "history_mae = []\n",
    "history_val_mae= []\n",
    "history_loss = []\n",
    "history_val_loss=[]\n",
    "for optim in optimizer:\n",
    "    model = tf.keras.models.Sequential([\n",
    "    tf.keras.layers.LSTM(750, return_sequences= True),\n",
    "    tf.keras.layers.Dense(8),\n",
    "    ])\n",
    "    model.compile(loss=tf.keras.losses.Huber(),\n",
    "              optimizer=optim,\n",
    "              metrics=[\"mae\"])\n",
    "    history = model2.fit(train, epochs=100, validation_data= val, verbose=0)\n",
    "    history_mae.append(history.history['mae'])\n",
    "    history_val_mae.append(history.history['val_mae'])\n",
    "    history_loss.append(history.history['loss'])\n",
    "    history_val_loss.append(history.history['val_loss'])"
   ]
  },
  {
   "cell_type": "code",
   "execution_count": 14,
   "id": "8e62ab32-3b60-4878-8726-a1b1905e98ed",
   "metadata": {},
   "outputs": [],
   "source": [
    "labels= ['SGD', 'Adam','Adadelta', 'Adagrad','Ftrl','Adamax','Nadam']"
   ]
  },
  {
   "cell_type": "code",
   "execution_count": 22,
   "id": "a375292b-d8d9-431b-a429-3de7268bf452",
   "metadata": {},
   "outputs": [
    {
     "data": {
      "image/png": "[encoded data removed]",
      "text/plain": [
       "<Figure size 432x288 with 1 Axes>"
      ]
     },
     "metadata": {
      "needs_background": "light"
     },
     "output_type": "display_data"
    }
   ],
   "source": [
    "import matplotlib.pyplot as plt\n",
    "from matplotlib.pyplot import cm\n",
    "import numpy as np\n",
    "\n",
    "number_of_lines= len(history_mae)\n",
    "cm_subsection = np.linspace(0, 1, number_of_lines)\n",
    "colors = [ cm.jet(x) for x in cm_subsection ] \n",
    "\n",
    "\n",
    "for data, color in zip(history_mae, colors):\n",
    "  plt.title('MAE')\n",
    "  plt.xlabel(\"Epochs\")\n",
    "  plt.ylabel(\"Accuracy\")\n",
    "  plt.legend(labels, fontsize=7.5)\n",
    "  plt.plot(data, color= color)\n",
    "path= os.path.join(ph.GetTuningData(),'learningRate_tuning','MAEVsLr.png')\n",
    "plt.savefig(path)"
   ]
  },
  {
   "cell_type": "code",
   "execution_count": 23,
   "id": "29545de0-6462-4d7b-ad4f-920c2404b260",
   "metadata": {},
   "outputs": [
    {
     "data": {
      "image/png": "[encoded data removed]",
      "text/plain": [
       "<Figure size 432x288 with 1 Axes>"
      ]
     },
     "metadata": {
      "needs_background": "light"
     },
     "output_type": "display_data"
    }
   ],
   "source": [
    "number_of_lines= len(history_val_mae)\n",
    "cm_subsection = np.linspace(0, 1, number_of_lines)\n",
    "colors = [ cm.jet(x) for x in cm_subsection ] \n",
    "\n",
    "\n",
    "for data, color in zip(history_val_mae, colors):\n",
    "  plt.title('VAL MAE')\n",
    "  plt.xlabel(\"Epochs\")\n",
    "  plt.ylabel(\"Accuracy\")\n",
    "  plt.legend(labels, fontsize=7.5)\n",
    "  plt.plot(data, color= color)\n",
    "path= os.path.join(ph.GetTuningData(),'learningRate_tuning','VALMAEVsLr.png')\n",
    "plt.savefig(path)"
   ]
  },
  {
   "cell_type": "code",
   "execution_count": 24,
   "id": "23cc6047-f9e1-4527-8b33-633c4703de26",
   "metadata": {},
   "outputs": [
    {
     "data": {
      "image/png": "[encoded data removed]",
      "text/plain": [
       "<Figure size 432x288 with 1 Axes>"
      ]
     },
     "metadata": {
      "needs_background": "light"
     },
     "output_type": "display_data"
    }
   ],
   "source": [
    "number_of_lines= len(history_loss)\n",
    "cm_subsection = np.linspace(0, 1, number_of_lines)\n",
    "colors = [ cm.jet(x) for x in cm_subsection ] \n",
    "\n",
    "\n",
    "for data, color in zip(history_loss, colors):\n",
    "  plt.title('Loss')\n",
    "  plt.xlabel(\"Epochs\")\n",
    "  plt.ylabel(\"Accuracy\")\n",
    "  plt.legend(labels, fontsize=7.5)\n",
    "  plt.plot(data, color= color)\n",
    "path= os.path.join(ph.GetTuningData(),'learningRate_tuning','LossVsLr.png')\n",
    "plt.savefig(path)"
   ]
  },
  {
   "cell_type": "code",
   "execution_count": 26,
   "id": "a9e785b6-bfc7-4bac-b90b-d3962e62a60c",
   "metadata": {},
   "outputs": [
    {
     "data": {
      "image/png": "[encoded data removed]",
      "text/plain": [
       "<Figure size 432x288 with 1 Axes>"
      ]
     },
     "metadata": {
      "needs_background": "light"
     },
     "output_type": "display_data"
    }
   ],
   "source": [
    "number_of_lines= len(history_val_loss)\n",
    "cm_subsection = np.linspace(0, 1, number_of_lines)\n",
    "colors = [ cm.jet(x) for x in cm_subsection ] \n",
    "\n",
    "\n",
    "for data, color in zip(history_val_loss, colors):\n",
    "  plt.title('Val Loss')\n",
    "  plt.xlabel(\"Epochs\")\n",
    "  plt.ylabel(\"Accuracy\")\n",
    "  plt.legend(labels, fontsize=7.5)\n",
    "  plt.plot(data, color= color)\n",
    "path= os.path.join(ph.GetTuningData(),'learningRate_tuning','ValLossVsLr.png')\n",
    "plt.savefig(path)"
   ]
  },
  {
   "cell_type": "code",
   "execution_count": 27,
   "id": "e0b62df1-ad36-44be-b2da-1209d4e64ac0",
   "metadata": {},
   "outputs": [],
   "source": [
    "model1_history=[history1.history['mae'],history1.history['val_mae'],\n",
    "               history1.history['loss'],history1.history['val_loss']]\n",
    "\n",
    "model2_history=[history2.history['mae'],history2.history['val_mae'],\n",
    "               history2.history['loss'],history2.history['val_loss']]"
   ]
  },
  {
   "cell_type": "code",
   "execution_count": 35,
   "id": "133e0627-9a46-484f-9fdd-6e97f99278b2",
   "metadata": {},
   "outputs": [
    {
     "data": {
      "image/png": "[encoded data removed]",
      "text/plain": [
       "<Figure size 432x288 with 1 Axes>"
      ]
     },
     "metadata": {
      "needs_background": "light"
     },
     "output_type": "display_data"
    },
    {
     "data": {
      "text/plain": [
       "<Figure size 432x288 with 0 Axes>"
      ]
     },
     "metadata": {},
     "output_type": "display_data"
    }
   ],
   "source": [
    "epochs=range(len(model1_history[0])) # Get number of epochs\n",
    "\n",
    "#------------------------------------------------\n",
    "# Plot MAE and Loss\n",
    "#------------------------------------------------\n",
    "plt.plot(epochs,model1_history[0] , 'r')\n",
    "# plt.plot(epochs, loss1, 'b')\n",
    "\n",
    "plt.plot(epochs,model2_history[0], 'y')\n",
    "# plt.plot(epochs, loss2, 'k')\n",
    "plt.title('MAE')\n",
    "plt.xlabel(\"Epochs\")\n",
    "plt.ylabel(\"Accuracy\")\n",
    "plt.legend([\"MAE1\", \"MAE2\",])\n",
    "\n",
    "plt.figure()\n",
    "\n",
    "path= os.path.join(ph.GetTuningData(),'layer_tuning','MAEVsBidir.png')\n",
    "plt.savefig(path)"
   ]
  },
  {
   "cell_type": "code",
   "execution_count": 36,
   "id": "84a63da8-441f-438a-8665-5ca81d18b1ec",
   "metadata": {},
   "outputs": [
    {
     "data": {
      "image/png": "[encoded data removed]",
      "text/plain": [
       "<Figure size 432x288 with 1 Axes>"
      ]
     },
     "metadata": {
      "needs_background": "light"
     },
     "output_type": "display_data"
    },
    {
     "data": {
      "text/plain": [
       "<Figure size 432x288 with 0 Axes>"
      ]
     },
     "metadata": {},
     "output_type": "display_data"
    }
   ],
   "source": [
    "plt.plot(epochs,model1_history[1] , 'r')\n",
    "# plt.plot(epochs, loss1, 'b')\n",
    "\n",
    "plt.plot(epochs,model2_history[1], 'y')\n",
    "# plt.plot(epochs, loss2, 'k')\n",
    "plt.title('Val MAE')\n",
    "plt.xlabel(\"Epochs\")\n",
    "plt.ylabel(\"Accuracy\")\n",
    "plt.legend([\"Val MAE1\", \"Val MAE2\",])\n",
    "\n",
    "plt.figure()\n",
    "path= os.path.join(ph.GetTuningData(),'layer_tuning','ValMAEVsBidir.png')\n",
    "plt.savefig(path)"
   ]
  },
  {
   "cell_type": "code",
   "execution_count": 37,
   "id": "d9285d4e-701c-4531-bd67-45922c4adbeb",
   "metadata": {},
   "outputs": [
    {
     "data": {
      "image/png": "[encoded data removed]",
      "text/plain": [
       "<Figure size 432x288 with 1 Axes>"
      ]
     },
     "metadata": {
      "needs_background": "light"
     },
     "output_type": "display_data"
    },
    {
     "data": {
      "text/plain": [
       "<Figure size 432x288 with 0 Axes>"
      ]
     },
     "metadata": {},
     "output_type": "display_data"
    }
   ],
   "source": [
    "plt.plot(epochs,model1_history[2] , 'r')\n",
    "# plt.plot(epochs, loss1, 'b')\n",
    "\n",
    "plt.plot(epochs,model2_history[2], 'y')\n",
    "# plt.plot(epochs, loss2, 'k')\n",
    "plt.title('Loss')\n",
    "plt.xlabel(\"Epochs\")\n",
    "plt.ylabel(\"Accuracy\")\n",
    "plt.legend([\"Loss1\", \"Loss2\",])\n",
    "\n",
    "plt.figure()\n",
    "path= os.path.join(ph.GetTuningData(),'layer_tuning','LossVsBidir.png')\n",
    "plt.savefig(path)"
   ]
  },
  {
   "cell_type": "code",
   "execution_count": 38,
   "id": "e0f70631-0293-4507-bba9-13b35256b760",
   "metadata": {},
   "outputs": [
    {
     "data": {
      "image/png": "[encoded data removed]",
      "text/plain": [
       "<Figure size 432x288 with 1 Axes>"
      ]
     },
     "metadata": {
      "needs_background": "light"
     },
     "output_type": "display_data"
    },
    {
     "data": {
      "text/plain": [
       "<Figure size 432x288 with 0 Axes>"
      ]
     },
     "metadata": {},
     "output_type": "display_data"
    }
   ],
   "source": [
    "plt.plot(epochs,model1_history[3] , 'r')\n",
    "# plt.plot(epochs, loss1, 'b')\n",
    "\n",
    "plt.plot(epochs,model2_history[3], 'y')\n",
    "# plt.plot(epochs, loss2, 'k')\n",
    "plt.title('Val Loss')\n",
    "plt.xlabel(\"Epochs\")\n",
    "plt.ylabel(\"Accuracy\")\n",
    "plt.legend([\"Val Loss1\", \"Val Loss2\",])\n",
    "\n",
    "plt.figure()\n",
    "path= os.path.join(ph.GetTuningData(),'layer_tuning','ValLossVsBidir.png')\n",
    "plt.savefig(path)"
   ]
  },
  {
   "cell_type": "code",
   "execution_count": 47,
   "id": "f8012ce4-82ff-4300-a3b4-db4cc9d7a208",
   "metadata": {
    "collapsed": true,
    "jupyter": {
     "outputs_hidden": true
    },
    "tags": []
   },
   "outputs": [
    {
     "name": "stdout",
     "output_type": "stream",
     "text": [
      "Epoch 1/100\n",
      "80/80 [==============================] - 11s 67ms/step - loss: 0.2678 - mae: 0.6719 - val_loss: 0.2944 - val_mae: 0.7071 - lr: 1.0000e-08\n",
      "Epoch 2/100\n",
      "80/80 [==============================] - 4s 54ms/step - loss: 0.2678 - mae: 0.6719 - val_loss: 0.2943 - val_mae: 0.7071 - lr: 1.7783e-08\n",
      "Epoch 3/100\n",
      "80/80 [==============================] - 5s 57ms/step - loss: 0.2678 - mae: 0.6719 - val_loss: 0.2943 - val_mae: 0.7070 - lr: 3.1623e-08\n",
      "Epoch 4/100\n",
      "80/80 [==============================] - 4s 54ms/step - loss: 0.2677 - mae: 0.6718 - val_loss: 0.2942 - val_mae: 0.7069 - lr: 5.6234e-08\n",
      "Epoch 5/100\n",
      "80/80 [==============================] - 4s 55ms/step - loss: 0.2676 - mae: 0.6717 - val_loss: 0.2941 - val_mae: 0.7068 - lr: 1.0000e-07\n",
      "Epoch 6/100\n",
      "80/80 [==============================] - 4s 55ms/step - loss: 0.2675 - mae: 0.6715 - val_loss: 0.2939 - val_mae: 0.7065 - lr: 1.7783e-07\n",
      "Epoch 7/100\n",
      "80/80 [==============================] - 4s 55ms/step - loss: 0.2672 - mae: 0.6711 - val_loss: 0.2935 - val_mae: 0.7060 - lr: 3.1623e-07\n",
      "Epoch 8/100\n",
      "80/80 [==============================] - 4s 54ms/step - loss: 0.2667 - mae: 0.6705 - val_loss: 0.2928 - val_mae: 0.7051 - lr: 5.6234e-07\n",
      "Epoch 9/100\n",
      "80/80 [==============================] - 5s 58ms/step - loss: 0.2658 - mae: 0.6693 - val_loss: 0.2915 - val_mae: 0.7036 - lr: 1.0000e-06\n",
      "Epoch 10/100\n",
      "80/80 [==============================] - 5s 56ms/step - loss: 0.2642 - mae: 0.6673 - val_loss: 0.2892 - val_mae: 0.7008 - lr: 1.7783e-06\n",
      "Epoch 11/100\n",
      "80/80 [==============================] - 4s 54ms/step - loss: 0.2614 - mae: 0.6637 - val_loss: 0.2852 - val_mae: 0.6959 - lr: 3.1623e-06\n",
      "Epoch 12/100\n",
      "80/80 [==============================] - 4s 54ms/step - loss: 0.2565 - mae: 0.6573 - val_loss: 0.2782 - val_mae: 0.6872 - lr: 5.6234e-06\n",
      "Epoch 13/100\n",
      "80/80 [==============================] - 4s 56ms/step - loss: 0.2478 - mae: 0.6459 - val_loss: 0.2659 - val_mae: 0.6716 - lr: 1.0000e-05\n",
      "Epoch 14/100\n",
      "80/80 [==============================] - 4s 55ms/step - loss: 0.2327 - mae: 0.6255 - val_loss: 0.2445 - val_mae: 0.6437 - lr: 1.7783e-05\n",
      "Epoch 15/100\n",
      "80/80 [==============================] - 4s 54ms/step - loss: 0.2066 - mae: 0.5886 - val_loss: 0.2077 - val_mae: 0.5923 - lr: 3.1623e-05\n",
      "Epoch 16/100\n",
      "80/80 [==============================] - 4s 56ms/step - loss: 0.1616 - mae: 0.5186 - val_loss: 0.1443 - val_mae: 0.4912 - lr: 5.6234e-05\n",
      "Epoch 17/100\n",
      "80/80 [==============================] - 4s 56ms/step - loss: 0.0884 - mae: 0.3759 - val_loss: 0.0497 - val_mae: 0.2842 - lr: 1.0000e-04\n",
      "Epoch 18/100\n",
      "80/80 [==============================] - 4s 55ms/step - loss: 0.0189 - mae: 0.1461 - val_loss: 0.0018 - val_mae: 0.0445 - lr: 1.7783e-04\n",
      "Epoch 19/100\n",
      "80/80 [==============================] - 5s 58ms/step - loss: 0.0079 - mae: 0.0792 - val_loss: 7.0670e-04 - val_mae: 0.0258 - lr: 3.1623e-04\n",
      "Epoch 20/100\n",
      "80/80 [==============================] - 5s 59ms/step - loss: 0.0081 - mae: 0.0778 - val_loss: 8.7284e-04 - val_mae: 0.0315 - lr: 5.6234e-04\n",
      "Epoch 21/100\n",
      "80/80 [==============================] - 5s 58ms/step - loss: 0.0082 - mae: 0.0783 - val_loss: 0.0012 - val_mae: 0.0421 - lr: 0.0010\n",
      "Epoch 22/100\n",
      "80/80 [==============================] - 5s 61ms/step - loss: 0.0080 - mae: 0.0802 - val_loss: 0.0013 - val_mae: 0.0410 - lr: 0.0018\n",
      "Epoch 23/100\n",
      "80/80 [==============================] - 5s 57ms/step - loss: 0.0074 - mae: 0.0778 - val_loss: 0.0022 - val_mae: 0.0509 - lr: 0.0032\n",
      "Epoch 24/100\n",
      "80/80 [==============================] - 5s 57ms/step - loss: 0.0066 - mae: 0.0739 - val_loss: 0.0021 - val_mae: 0.0515 - lr: 0.0056\n",
      "Epoch 25/100\n",
      "80/80 [==============================] - 5s 57ms/step - loss: 0.0058 - mae: 0.0669 - val_loss: 0.0013 - val_mae: 0.0353 - lr: 0.0100\n",
      "Epoch 26/100\n",
      "80/80 [==============================] - 4s 55ms/step - loss: 0.0047 - mae: 0.0572 - val_loss: 9.0220e-04 - val_mae: 0.0287 - lr: 0.0178\n",
      "Epoch 27/100\n",
      "80/80 [==============================] - 4s 56ms/step - loss: 0.0049 - mae: 0.0556 - val_loss: 0.0013 - val_mae: 0.0319 - lr: 0.0316\n",
      "Epoch 28/100\n",
      "80/80 [==============================] - 5s 58ms/step - loss: 0.0037 - mae: 0.0479 - val_loss: 0.0017 - val_mae: 0.0384 - lr: 0.0562\n",
      "Epoch 29/100\n",
      "80/80 [==============================] - 5s 58ms/step - loss: 0.0077 - mae: 0.0708 - val_loss: 0.0021 - val_mae: 0.0474 - lr: 0.1000\n",
      "Epoch 30/100\n",
      "80/80 [==============================] - 4s 56ms/step - loss: 0.0055 - mae: 0.0594 - val_loss: 0.0027 - val_mae: 0.0511 - lr: 0.1778\n",
      "Epoch 31/100\n",
      "80/80 [==============================] - 4s 56ms/step - loss: 0.0064 - mae: 0.0563 - val_loss: 0.0018 - val_mae: 0.0391 - lr: 0.3162\n",
      "Epoch 32/100\n",
      "80/80 [==============================] - 4s 56ms/step - loss: 0.0051 - mae: 0.0480 - val_loss: 0.0014 - val_mae: 0.0374 - lr: 0.5623\n",
      "Epoch 33/100\n",
      "80/80 [==============================] - 4s 56ms/step - loss: 0.0067 - mae: 0.0558 - val_loss: 0.0014 - val_mae: 0.0358 - lr: 1.0000\n",
      "Epoch 34/100\n",
      "80/80 [==============================] - 5s 57ms/step - loss: 0.0076 - mae: 0.0626 - val_loss: 0.0011 - val_mae: 0.0321 - lr: 1.7783\n",
      "Epoch 35/100\n",
      "80/80 [==============================] - 5s 57ms/step - loss: 0.0098 - mae: 0.0676 - val_loss: 0.0010 - val_mae: 0.0296 - lr: 3.1623\n",
      "Epoch 36/100\n",
      "80/80 [==============================] - 4s 55ms/step - loss: 0.0422 - mae: 0.1732 - val_loss: 9.5146e-04 - val_mae: 0.0310 - lr: 5.6234\n",
      "Epoch 37/100\n",
      "80/80 [==============================] - 4s 56ms/step - loss: 0.0135 - mae: 0.0873 - val_loss: 0.0010 - val_mae: 0.0285 - lr: 10.0000\n",
      "Epoch 38/100\n",
      "80/80 [==============================] - 5s 60ms/step - loss: 0.0453 - mae: 0.1739 - val_loss: 0.0010 - val_mae: 0.0334 - lr: 17.7828\n",
      "Epoch 39/100\n",
      "80/80 [==============================] - 4s 56ms/step - loss: 16.8301 - mae: 17.3222 - val_loss: 19.4635 - val_mae: 19.9635 - lr: 31.6228\n",
      "Epoch 40/100\n",
      "80/80 [==============================] - 4s 56ms/step - loss: 43.4566 - mae: 43.9503 - val_loss: 56.8738 - val_mae: 57.3738 - lr: 56.2341\n",
      "Epoch 41/100\n",
      "80/80 [==============================] - 5s 56ms/step - loss: 236.1883 - mae: 236.6796 - val_loss: 157.7683 - val_mae: 158.2683 - lr: 100.0000\n",
      "Epoch 42/100\n",
      "80/80 [==============================] - 5s 58ms/step - loss: 485.0881 - mae: 485.6007 - val_loss: 521.2776 - val_mae: 521.7776 - lr: 177.8279\n",
      "Epoch 43/100\n",
      "80/80 [==============================] - 5s 57ms/step - loss: 901.2993 - mae: 901.7441 - val_loss: 480.6458 - val_mae: 481.1458 - lr: 316.2278\n",
      "Epoch 44/100\n",
      "80/80 [==============================] - 4s 56ms/step - loss: 1603.0564 - mae: 1603.5825 - val_loss: 1169.4465 - val_mae: 1169.9465 - lr: 562.3413\n",
      "Epoch 45/100\n",
      "80/80 [==============================] - 5s 58ms/step - loss: 2857.4299 - mae: 2857.8228 - val_loss: 3477.7876 - val_mae: 3478.2871 - lr: 1000.0000\n",
      "Epoch 46/100\n",
      "80/80 [==============================] - 4s 55ms/step - loss: 5340.6777 - mae: 5341.1016 - val_loss: 5144.6528 - val_mae: 5145.1538 - lr: 1778.2794\n",
      "Epoch 47/100\n",
      "80/80 [==============================] - 5s 59ms/step - loss: 11616.5693 - mae: 11616.6514 - val_loss: 13980.9785 - val_mae: 13981.4775 - lr: 3162.2776\n",
      "Epoch 48/100\n",
      "80/80 [==============================] - 5s 56ms/step - loss: 19956.6152 - mae: 19958.4355 - val_loss: 17782.8965 - val_mae: 17783.3984 - lr: 5623.4131\n",
      "Epoch 49/100\n",
      "80/80 [==============================] - 5s 64ms/step - loss: 36535.3281 - mae: 36533.9922 - val_loss: 35160.4844 - val_mae: 35160.9922 - lr: 10000.0000\n",
      "Epoch 50/100\n",
      "80/80 [==============================] - 5s 59ms/step - loss: 67425.1797 - mae: 67426.6484 - val_loss: 75808.8672 - val_mae: 75809.3672 - lr: 17782.7949\n",
      "Epoch 51/100\n",
      "80/80 [==============================] - 5s 59ms/step - loss: 121222.5625 - mae: 121214.8125 - val_loss: 77489.1250 - val_mae: 77489.6172 - lr: 31622.7773\n",
      "Epoch 52/100\n",
      "80/80 [==============================] - 5s 58ms/step - loss: 251553.4688 - mae: 251576.5781 - val_loss: 221553.4219 - val_mae: 221553.9375 - lr: 56234.1328\n",
      "Epoch 53/100\n",
      "80/80 [==============================] - 5s 56ms/step - loss: 486568.4062 - mae: 486584.4688 - val_loss: 454009.1250 - val_mae: 454009.5312 - lr: 100000.0000\n",
      "Epoch 54/100\n",
      "80/80 [==============================] - 4s 56ms/step - loss: 778250.2500 - mae: 778292.6875 - val_loss: 291602.0312 - val_mae: 291602.5000 - lr: 177827.9375\n",
      "Epoch 55/100\n",
      "80/80 [==============================] - 4s 54ms/step - loss: 1440554.0000 - mae: 1440523.7500 - val_loss: 1101938.7500 - val_mae: 1101938.2500 - lr: 316227.7812\n",
      "Epoch 56/100\n",
      "80/80 [==============================] - 5s 58ms/step - loss: 3491517.2500 - mae: 3491420.7500 - val_loss: 3379411.5000 - val_mae: 3379411.5000 - lr: 562341.3125\n",
      "Epoch 57/100\n",
      "80/80 [==============================] - 4s 56ms/step - loss: 5871471.5000 - mae: 5870867.5000 - val_loss: 6681406.5000 - val_mae: 6681406.0000 - lr: 1000000.0000\n",
      "Epoch 58/100\n",
      "80/80 [==============================] - 5s 58ms/step - loss: 11594147.0000 - mae: 11592805.0000 - val_loss: 9512895.0000 - val_mae: 9512896.0000 - lr: 1778279.3750\n",
      "Epoch 59/100\n",
      "80/80 [==============================] - 5s 59ms/step - loss: 25080856.0000 - mae: 25081800.0000 - val_loss: 12142263.0000 - val_mae: 12142264.0000 - lr: 3162277.7500\n",
      "Epoch 60/100\n",
      "80/80 [==============================] - 5s 58ms/step - loss: 37875924.0000 - mae: 37878288.0000 - val_loss: 35919820.0000 - val_mae: 35919804.0000 - lr: 5623413.5000\n",
      "Epoch 61/100\n",
      "80/80 [==============================] - 4s 55ms/step - loss: 61785500.0000 - mae: 61787072.0000 - val_loss: 39132608.0000 - val_mae: 39132608.0000 - lr: 10000000.0000\n",
      "Epoch 62/100\n",
      "80/80 [==============================] - 4s 55ms/step - loss: 109917864.0000 - mae: 109912224.0000 - val_loss: 74736608.0000 - val_mae: 74736608.0000 - lr: 17782794.0000\n",
      "Epoch 63/100\n",
      "80/80 [==============================] - 5s 57ms/step - loss: 215826336.0000 - mae: 215818016.0000 - val_loss: 257638272.0000 - val_mae: 257638288.0000 - lr: 31622776.0000\n",
      "Epoch 64/100\n",
      "80/80 [==============================] - 4s 55ms/step - loss: 430890304.0000 - mae: 430937856.0000 - val_loss: 369600768.0000 - val_mae: 369600704.0000 - lr: 56234132.0000\n",
      "Epoch 65/100\n",
      "80/80 [==============================] - 4s 55ms/step - loss: 760676352.0000 - mae: 760591808.0000 - val_loss: 1116070016.0000 - val_mae: 1116070144.0000 - lr: 100000000.0000\n",
      "Epoch 66/100\n",
      "80/80 [==============================] - 5s 58ms/step - loss: 1393289600.0000 - mae: 1393441920.0000 - val_loss: 1923104896.0000 - val_mae: 1923104896.0000 - lr: 177827936.0000\n",
      "Epoch 67/100\n",
      "80/80 [==============================] - 5s 58ms/step - loss: 2482477568.0000 - mae: 2482658560.0000 - val_loss: 2471293696.0000 - val_mae: 2471293696.0000 - lr: 316227776.0000\n",
      "Epoch 68/100\n",
      "80/80 [==============================] - 4s 55ms/step - loss: 4346783232.0000 - mae: 4346950144.0000 - val_loss: 4171661568.0000 - val_mae: 4171661312.0000 - lr: 562341312.0000\n",
      "Epoch 69/100\n",
      "80/80 [==============================] - 5s 56ms/step - loss: 8110731776.0000 - mae: 8111076352.0000 - val_loss: 11734731776.0000 - val_mae: 11734733824.0000 - lr: 1000000000.0000\n",
      "Epoch 70/100\n",
      "80/80 [==============================] - 5s 57ms/step - loss: 13399806976.0000 - mae: 13401307136.0000 - val_loss: 12453336064.0000 - val_mae: 12453335040.0000 - lr: 1778279424.0000\n",
      "Epoch 71/100\n",
      "80/80 [==============================] - 4s 56ms/step - loss: 24160686080.0000 - mae: 24160636928.0000 - val_loss: 16230427648.0000 - val_mae: 16230426624.0000 - lr: 3162277632.0000\n",
      "Epoch 72/100\n",
      "80/80 [==============================] - 4s 56ms/step - loss: 44133220352.0000 - mae: 44133613568.0000 - val_loss: 58936725504.0000 - val_mae: 58936745984.0000 - lr: 5623413248.0000\n",
      "Epoch 73/100\n",
      "80/80 [==============================] - 4s 55ms/step - loss: 79577939968.0000 - mae: 79585222656.0000 - val_loss: 85530361856.0000 - val_mae: 85530394624.0000 - lr: 10000000000.0000\n",
      "Epoch 74/100\n",
      "80/80 [==============================] - 4s 55ms/step - loss: 144084451328.0000 - mae: 144081780736.0000 - val_loss: 131931480064.0000 - val_mae: 131931504640.0000 - lr: 17782794240.0000\n",
      "Epoch 75/100\n",
      "80/80 [==============================] - 5s 61ms/step - loss: 258253094912.0000 - mae: 258253488128.0000 - val_loss: 337331617792.0000 - val_mae: 337331617792.0000 - lr: 31622776832.0000\n",
      "Epoch 76/100\n",
      "80/80 [==============================] - 5s 58ms/step - loss: 462730952704.0000 - mae: 462778892288.0000 - val_loss: 470273425408.0000 - val_mae: 470273425408.0000 - lr: 56234131456.0000\n",
      "Epoch 77/100\n",
      "80/80 [==============================] - 5s 56ms/step - loss: 838087475200.0000 - mae: 838061916160.0000 - val_loss: 818023366656.0000 - val_mae: 818023432192.0000 - lr: 99999997952.0000\n",
      "Epoch 78/100\n",
      "80/80 [==============================] - 5s 56ms/step - loss: 1526741860352.0000 - mae: 1526837805056.0000 - val_loss: 1701454413824.0000 - val_mae: 1701454282752.0000 - lr: 177827938304.0000\n",
      "Epoch 79/100\n",
      "80/80 [==============================] - 4s 55ms/step - loss: 2724435329024.0000 - mae: 2724789485568.0000 - val_loss: 3156183089152.0000 - val_mae: 3156183351296.0000 - lr: 316227780608.0000\n",
      "Epoch 80/100\n",
      "80/80 [==============================] - 5s 57ms/step - loss: 4954677837824.0000 - mae: 4954638516224.0000 - val_loss: 4449727676416.0000 - val_mae: 4449727152128.0000 - lr: 562341347328.0000\n",
      "Epoch 81/100\n",
      "80/80 [==============================] - 4s 55ms/step - loss: 8777960521728.0000 - mae: 8778043883520.0000 - val_loss: 12319788630016.0000 - val_mae: 12319788630016.0000 - lr: 999999995904.0000\n",
      "Epoch 82/100\n",
      "80/80 [==============================] - 4s 55ms/step - loss: 15745708720128.0000 - mae: 15747088646144.0000 - val_loss: 16473445629952.0000 - val_mae: 16473440387072.0000 - lr: 1778279383040.0000\n",
      "Epoch 83/100\n",
      "80/80 [==============================] - 5s 57ms/step - loss: 28026429505536.0000 - mae: 28026270121984.0000 - val_loss: 25713671405568.0000 - val_mae: 25713671405568.0000 - lr: 3162277675008.0000\n",
      "Epoch 84/100\n",
      "80/80 [==============================] - 5s 58ms/step - loss: 50194943049728.0000 - mae: 50195777716224.0000 - val_loss: 65730577956864.0000 - val_mae: 65730582151168.0000 - lr: 5623413473280.0000\n",
      "Epoch 85/100\n",
      "80/80 [==============================] - 5s 57ms/step - loss: 89083409858560.0000 - mae: 89092821876736.0000 - val_loss: 97706680778752.0000 - val_mae: 97706705944576.0000 - lr: 9999999827968.0000\n",
      "Epoch 86/100\n",
      "80/80 [==============================] - 4s 56ms/step - loss: 160246018342912.0000 - mae: 160242293800960.0000 - val_loss: 148609374879744.0000 - val_mae: 148609441988608.0000 - lr: 17782794092544.0000\n",
      "Epoch 87/100\n",
      "80/80 [==============================] - 4s 56ms/step - loss: 286472976465920.0000 - mae: 286481700618240.0000 - val_loss: 364557260292096.0000 - val_mae: 364557260292096.0000 - lr: 31622776750080.0000\n",
      "Epoch 88/100\n",
      "80/80 [==============================] - 5s 56ms/step - loss: 508489969434624.0000 - mae: 508544898039808.0000 - val_loss: 569611514806272.0000 - val_mae: 569611581915136.0000 - lr: 56234132635648.0000\n",
      "Epoch 89/100\n",
      "80/80 [==============================] - 5s 57ms/step - loss: 908000176898048.0000 - mae: 907982191722496.0000 - val_loss: 852356325441536.0000 - val_mae: 852356459659264.0000 - lr: 100000000376832.0000\n",
      "Epoch 90/100\n",
      "80/80 [==============================] - 4s 54ms/step - loss: 1621716031766528.0000 - mae: 1621757102391296.0000 - val_loss: 2139014240927744.0000 - val_mae: 2139014509363200.0000 - lr: 177827936731136.0000\n",
      "Epoch 91/100\n",
      "80/80 [==============================] - 4s 55ms/step - loss: 2883528568078336.0000 - mae: 2883813109661696.0000 - val_loss: 3161048416780288.0000 - val_mae: 3161048416780288.0000 - lr: 316227771695104.0000\n",
      "Epoch 92/100\n",
      "80/80 [==============================] - 4s 56ms/step - loss: 5179187245613056.0000 - mae: 5178977865957376.0000 - val_loss: 5140352151322624.0000 - val_mae: 5140352688193536.0000 - lr: 562341309579264.0000\n",
      "Epoch 93/100\n",
      "80/80 [==============================] - 4s 55ms/step - loss: 9194341717245952.0000 - mae: 9194514589679616.0000 - val_loss: 12100248943984640.0000 - val_mae: 12100251091468288.0000 - lr: 999999986991104.0000\n",
      "Epoch 94/100\n",
      "80/80 [==============================] - 5s 57ms/step - loss: 16472168095285248.0000 - mae: 16473515641274368.0000 - val_loss: 16943439824289792.0000 - val_mae: 16943436603064320.0000 - lr: 1778279400865792.0000\n",
      "Epoch 95/100\n",
      "80/80 [==============================] - 5s 56ms/step - loss: 30641598064754688.0000 - mae: 30643479260430336.0000 - val_loss: 19039961537839104.0000 - val_mae: 19039957242871808.0000 - lr: 3162277582733312.0000\n",
      "Epoch 96/100\n",
      "80/80 [==============================] - 4s 55ms/step - loss: 54946302596743168.0000 - mae: 54949107210387456.0000 - val_loss: 77431336859598848.0000 - val_mae: 77431319679729664.0000 - lr: 5623413028683776.0000\n",
      "Epoch 97/100\n",
      "80/80 [==============================] - 4s 56ms/step - loss: 102666863883845632.0000 - mae: 102673521083154432.0000 - val_loss: 127318361255182336.0000 - val_mae: 127318335485378560.0000 - lr: 10000000272564224.0000\n",
      "Epoch 98/100\n",
      "80/80 [==============================] - 4s 55ms/step - loss: 187137411623419904.0000 - mae: 187139765265498112.0000 - val_loss: 148340370743230464.0000 - val_mae: 148340319203622912.0000 - lr: 17782794545528832.0000\n",
      "Epoch 99/100\n",
      "80/80 [==============================] - 5s 56ms/step - loss: 335286725041455104.0000 - mae: 335287274797268992.0000 - val_loss: 506966738345132032.0000 - val_mae: 506966738345132032.0000 - lr: 31622776901074944.0000\n",
      "Epoch 100/100\n",
      "80/80 [==============================] - 4s 54ms/step - loss: 602320303716040704.0000 - mae: 602363871864291328.0000 - val_loss: 653086817154760704.0000 - val_mae: 653086679715807232.0000 - lr: 56234131360579584.0000\n"
     ]
    }
   ],
   "source": [
    "lr_schedule = tf.keras.callbacks.LearningRateScheduler(\n",
    "    lambda epoch: 1e-8 * 10**((5*epoch) / 20))\n",
    "\n",
    "model3 = tf.keras.models.Sequential([\n",
    "  tf.keras.layers.LSTM(750),\n",
    "  tf.keras.layers.Dense(8),\n",
    "])\n",
    "optimizer = tf.keras.optimizers.Adamax(learning_rate= 1e-8)\n",
    "model3.compile(loss=tf.keras.losses.Huber(),\n",
    "              optimizer=optimizer,\n",
    "              metrics=[\"mae\"])\n",
    "history3 = model3.fit(train, epochs=100, validation_data= val,\n",
    "                     callbacks=[lr_schedule])"
   ]
  },
  {
   "cell_type": "code",
   "execution_count": 50,
   "id": "4ee4068c-4334-4620-b2d1-19aa6742cb9e",
   "metadata": {},
   "outputs": [
    {
     "data": {
      "image/png": "[encoded data removed]",
      "text/plain": [
       "<Figure size 432x288 with 1 Axes>"
      ]
     },
     "metadata": {
      "needs_background": "light"
     },
     "output_type": "display_data"
    }
   ],
   "source": [
    "plt.semilogx(history2.history[\"lr\"], history2.history[\"loss\"])\n",
    "plt.axis([1e-8, 1, 0, 0.01])\n",
    "plt.title('Loss Vs Learning Rate')\n",
    "plt.xlabel('Learning Rate')\n",
    "plt.ylabel('Loss')\n",
    "# plt.axvline(0.15)\n",
    "path= os.path.join(ph.GetTuningData(),'layer_tuning','LossVsLR.png')\n",
    "plt.savefig(path)"
   ]
  },
  {
   "cell_type": "code",
   "execution_count": 54,
   "id": "ec0025cc-f3db-4eaf-8a1c-53f3f572b916",
   "metadata": {},
   "outputs": [
    {
     "data": {
      "image/png": "[encoded data removed]",
      "text/plain": [
       "<Figure size 432x288 with 1 Axes>"
      ]
     },
     "metadata": {
      "needs_background": "light"
     },
     "output_type": "display_data"
    }
   ],
   "source": [
    "plt.semilogx(history2.history[\"lr\"], history2.history[\"val_loss\"])\n",
    "plt.axis([1e-8, 10e-2, 0, 0.005])\n",
    "plt.title('Loss Vs Learning Rate')\n",
    "plt.xlabel('Learning Rate')\n",
    "plt.ylabel('Val Loss')\n",
    "# plt.axvline(0.15)\n",
    "path= os.path.join(ph.GetTuningData(),'layer_tuning','ValLossVsLR.png')\n",
    "plt.savefig(path)"
   ]
  },
  {
   "cell_type": "code",
   "execution_count": 49,
   "id": "b0fcf272-9696-47a3-9eb1-a68a2a43acb9",
   "metadata": {
    "collapsed": true,
    "jupyter": {
     "outputs_hidden": true
    },
    "tags": []
   },
   "outputs": [
    {
     "name": "stdout",
     "output_type": "stream",
     "text": [
      "Epoch 1/100\n",
      "80/80 [==============================] - 11s 65ms/step - loss: 0.0756 - mae: 0.2811 - val_loss: 0.0011 - val_mae: 0.0366\n",
      "Epoch 2/100\n",
      "80/80 [==============================] - 4s 54ms/step - loss: 0.0090 - mae: 0.0800 - val_loss: 7.5821e-04 - val_mae: 0.0284\n",
      "Epoch 3/100\n",
      "80/80 [==============================] - 5s 57ms/step - loss: 0.0080 - mae: 0.0788 - val_loss: 7.5780e-04 - val_mae: 0.0288\n",
      "Epoch 4/100\n",
      "80/80 [==============================] - 4s 53ms/step - loss: 0.0076 - mae: 0.0765 - val_loss: 7.6833e-04 - val_mae: 0.0296\n",
      "Epoch 5/100\n",
      "80/80 [==============================] - 4s 53ms/step - loss: 0.0071 - mae: 0.0741 - val_loss: 7.8725e-04 - val_mae: 0.0307\n",
      "Epoch 6/100\n",
      "80/80 [==============================] - 4s 55ms/step - loss: 0.0067 - mae: 0.0716 - val_loss: 8.1321e-04 - val_mae: 0.0319\n",
      "Epoch 7/100\n",
      "80/80 [==============================] - 4s 56ms/step - loss: 0.0062 - mae: 0.0691 - val_loss: 8.4303e-04 - val_mae: 0.0330\n",
      "Epoch 8/100\n",
      "80/80 [==============================] - 4s 54ms/step - loss: 0.0057 - mae: 0.0665 - val_loss: 8.7053e-04 - val_mae: 0.0339\n",
      "Epoch 9/100\n",
      "80/80 [==============================] - 5s 57ms/step - loss: 0.0053 - mae: 0.0638 - val_loss: 8.8618e-04 - val_mae: 0.0344\n",
      "Epoch 10/100\n",
      "80/80 [==============================] - 4s 55ms/step - loss: 0.0048 - mae: 0.0611 - val_loss: 8.8231e-04 - val_mae: 0.0344\n",
      "Epoch 11/100\n",
      "80/80 [==============================] - 4s 54ms/step - loss: 0.0044 - mae: 0.0583 - val_loss: 8.5781e-04 - val_mae: 0.0339\n",
      "Epoch 12/100\n",
      "80/80 [==============================] - 4s 55ms/step - loss: 0.0040 - mae: 0.0557 - val_loss: 8.1964e-04 - val_mae: 0.0330\n",
      "Epoch 13/100\n",
      "80/80 [==============================] - 5s 57ms/step - loss: 0.0036 - mae: 0.0533 - val_loss: 7.7742e-04 - val_mae: 0.0319\n",
      "Epoch 14/100\n",
      "80/80 [==============================] - 5s 57ms/step - loss: 0.0033 - mae: 0.0511 - val_loss: 7.3733e-04 - val_mae: 0.0308\n",
      "Epoch 15/100\n",
      "80/80 [==============================] - 5s 57ms/step - loss: 0.0030 - mae: 0.0490 - val_loss: 7.0058e-04 - val_mae: 0.0299\n",
      "Epoch 16/100\n",
      "80/80 [==============================] - 4s 56ms/step - loss: 0.0028 - mae: 0.0470 - val_loss: 6.6508e-04 - val_mae: 0.0290\n",
      "Epoch 17/100\n",
      "80/80 [==============================] - 5s 59ms/step - loss: 0.0027 - mae: 0.0450 - val_loss: 6.2758e-04 - val_mae: 0.0281\n",
      "Epoch 18/100\n",
      "80/80 [==============================] - 4s 55ms/step - loss: 0.0025 - mae: 0.0431 - val_loss: 5.8737e-04 - val_mae: 0.0271\n",
      "Epoch 19/100\n",
      "80/80 [==============================] - 4s 55ms/step - loss: 0.0024 - mae: 0.0414 - val_loss: 5.4529e-04 - val_mae: 0.0259\n",
      "Epoch 20/100\n",
      "80/80 [==============================] - 4s 55ms/step - loss: 0.0022 - mae: 0.0398 - val_loss: 5.0346e-04 - val_mae: 0.0248\n",
      "Epoch 21/100\n",
      "80/80 [==============================] - 5s 57ms/step - loss: 0.0021 - mae: 0.0384 - val_loss: 4.6312e-04 - val_mae: 0.0236\n",
      "Epoch 22/100\n",
      "80/80 [==============================] - 5s 56ms/step - loss: 0.0020 - mae: 0.0371 - val_loss: 4.2502e-04 - val_mae: 0.0225\n",
      "Epoch 23/100\n",
      "80/80 [==============================] - 5s 58ms/step - loss: 0.0019 - mae: 0.0360 - val_loss: 3.8909e-04 - val_mae: 0.0214\n",
      "Epoch 24/100\n",
      "80/80 [==============================] - 4s 55ms/step - loss: 0.0018 - mae: 0.0350 - val_loss: 3.5506e-04 - val_mae: 0.0204\n",
      "Epoch 25/100\n",
      "80/80 [==============================] - 4s 55ms/step - loss: 0.0017 - mae: 0.0340 - val_loss: 3.2281e-04 - val_mae: 0.0195\n",
      "Epoch 26/100\n",
      "80/80 [==============================] - 5s 60ms/step - loss: 0.0016 - mae: 0.0330 - val_loss: 2.9266e-04 - val_mae: 0.0185\n",
      "Epoch 27/100\n",
      "80/80 [==============================] - 5s 57ms/step - loss: 0.0016 - mae: 0.0322 - val_loss: 2.6506e-04 - val_mae: 0.0176\n",
      "Epoch 28/100\n",
      "80/80 [==============================] - 5s 58ms/step - loss: 0.0015 - mae: 0.0314 - val_loss: 2.4083e-04 - val_mae: 0.0168\n",
      "Epoch 29/100\n",
      "80/80 [==============================] - 4s 56ms/step - loss: 0.0014 - mae: 0.0307 - val_loss: 2.2045e-04 - val_mae: 0.0159\n",
      "Epoch 30/100\n",
      "80/80 [==============================] - 5s 57ms/step - loss: 0.0014 - mae: 0.0301 - val_loss: 2.0395e-04 - val_mae: 0.0151\n",
      "Epoch 31/100\n",
      "80/80 [==============================] - 5s 59ms/step - loss: 0.0013 - mae: 0.0297 - val_loss: 1.9055e-04 - val_mae: 0.0144\n",
      "Epoch 32/100\n",
      "80/80 [==============================] - 5s 59ms/step - loss: 0.0013 - mae: 0.0293 - val_loss: 1.7927e-04 - val_mae: 0.0139\n",
      "Epoch 33/100\n",
      "80/80 [==============================] - 4s 55ms/step - loss: 0.0013 - mae: 0.0291 - val_loss: 1.6964e-04 - val_mae: 0.0135\n",
      "Epoch 34/100\n",
      "80/80 [==============================] - 5s 56ms/step - loss: 0.0013 - mae: 0.0290 - val_loss: 1.6113e-04 - val_mae: 0.0132\n",
      "Epoch 35/100\n",
      "80/80 [==============================] - 5s 58ms/step - loss: 0.0013 - mae: 0.0290 - val_loss: 1.5397e-04 - val_mae: 0.0129\n",
      "Epoch 36/100\n",
      "80/80 [==============================] - 5s 57ms/step - loss: 0.0012 - mae: 0.0289 - val_loss: 1.4805e-04 - val_mae: 0.0127\n",
      "Epoch 37/100\n",
      "80/80 [==============================] - 5s 58ms/step - loss: 0.0012 - mae: 0.0289 - val_loss: 1.4310e-04 - val_mae: 0.0126\n",
      "Epoch 38/100\n",
      "80/80 [==============================] - 4s 55ms/step - loss: 0.0012 - mae: 0.0288 - val_loss: 1.3888e-04 - val_mae: 0.0124\n",
      "Epoch 39/100\n",
      "80/80 [==============================] - 5s 57ms/step - loss: 0.0012 - mae: 0.0287 - val_loss: 1.3525e-04 - val_mae: 0.0123\n",
      "Epoch 40/100\n",
      "80/80 [==============================] - 4s 55ms/step - loss: 0.0012 - mae: 0.0285 - val_loss: 1.3213e-04 - val_mae: 0.0122\n",
      "Epoch 41/100\n",
      "80/80 [==============================] - 5s 57ms/step - loss: 0.0012 - mae: 0.0284 - val_loss: 1.2953e-04 - val_mae: 0.0121\n",
      "Epoch 42/100\n",
      "80/80 [==============================] - 5s 60ms/step - loss: 0.0011 - mae: 0.0282 - val_loss: 1.2746e-04 - val_mae: 0.0120\n",
      "Epoch 43/100\n",
      "80/80 [==============================] - 5s 58ms/step - loss: 0.0011 - mae: 0.0281 - val_loss: 1.2602e-04 - val_mae: 0.0120\n",
      "Epoch 44/100\n",
      "80/80 [==============================] - 5s 61ms/step - loss: 0.0011 - mae: 0.0280 - val_loss: 1.2539e-04 - val_mae: 0.0120\n",
      "Epoch 45/100\n",
      "80/80 [==============================] - 5s 59ms/step - loss: 0.0011 - mae: 0.0279 - val_loss: 1.2533e-04 - val_mae: 0.0120\n",
      "Epoch 46/100\n",
      "80/80 [==============================] - 5s 58ms/step - loss: 0.0011 - mae: 0.0279 - val_loss: 1.2587e-04 - val_mae: 0.0120\n",
      "Epoch 47/100\n",
      "80/80 [==============================] - 5s 59ms/step - loss: 0.0011 - mae: 0.0278 - val_loss: 1.2705e-04 - val_mae: 0.0121\n",
      "Epoch 48/100\n",
      "80/80 [==============================] - 5s 58ms/step - loss: 0.0011 - mae: 0.0278 - val_loss: 1.2903e-04 - val_mae: 0.0123\n",
      "Epoch 49/100\n",
      "80/80 [==============================] - 5s 57ms/step - loss: 0.0011 - mae: 0.0277 - val_loss: 1.3199e-04 - val_mae: 0.0125\n",
      "Epoch 50/100\n",
      "80/80 [==============================] - 5s 57ms/step - loss: 0.0010 - mae: 0.0277 - val_loss: 1.3616e-04 - val_mae: 0.0127\n",
      "Epoch 51/100\n",
      "80/80 [==============================] - 5s 61ms/step - loss: 0.0010 - mae: 0.0276 - val_loss: 1.4179e-04 - val_mae: 0.0130\n",
      "Epoch 52/100\n",
      "80/80 [==============================] - 5s 58ms/step - loss: 0.0010 - mae: 0.0276 - val_loss: 1.4932e-04 - val_mae: 0.0134\n",
      "Epoch 53/100\n",
      "80/80 [==============================] - 4s 56ms/step - loss: 0.0010 - mae: 0.0275 - val_loss: 1.5857e-04 - val_mae: 0.0139\n",
      "Epoch 54/100\n",
      "80/80 [==============================] - 5s 57ms/step - loss: 0.0010 - mae: 0.0275 - val_loss: 1.6886e-04 - val_mae: 0.0144\n",
      "Epoch 55/100\n",
      "80/80 [==============================] - 5s 57ms/step - loss: 0.0010 - mae: 0.0274 - val_loss: 1.7923e-04 - val_mae: 0.0149\n",
      "Epoch 56/100\n",
      "80/80 [==============================] - 4s 56ms/step - loss: 0.0010 - mae: 0.0273 - val_loss: 1.8885e-04 - val_mae: 0.0154\n",
      "Epoch 57/100\n",
      "80/80 [==============================] - 5s 56ms/step - loss: 9.9305e-04 - mae: 0.0272 - val_loss: 1.9688e-04 - val_mae: 0.0158\n",
      "Epoch 58/100\n",
      "80/80 [==============================] - 4s 55ms/step - loss: 9.8486e-04 - mae: 0.0270 - val_loss: 2.0282e-04 - val_mae: 0.0161\n",
      "Epoch 59/100\n",
      "80/80 [==============================] - 5s 58ms/step - loss: 9.7601e-04 - mae: 0.0269 - val_loss: 2.0673e-04 - val_mae: 0.0163\n",
      "Epoch 60/100\n",
      "80/80 [==============================] - 5s 58ms/step - loss: 9.6685e-04 - mae: 0.0268 - val_loss: 2.0924e-04 - val_mae: 0.0165\n",
      "Epoch 61/100\n",
      "80/80 [==============================] - 4s 55ms/step - loss: 9.5790e-04 - mae: 0.0267 - val_loss: 2.1149e-04 - val_mae: 0.0168\n",
      "Epoch 62/100\n",
      "80/80 [==============================] - 4s 55ms/step - loss: 9.4966e-04 - mae: 0.0266 - val_loss: 2.1421e-04 - val_mae: 0.0170\n",
      "Epoch 63/100\n",
      "80/80 [==============================] - 5s 57ms/step - loss: 9.4238e-04 - mae: 0.0266 - val_loss: 2.1805e-04 - val_mae: 0.0173\n",
      "Epoch 64/100\n",
      "80/80 [==============================] - 4s 56ms/step - loss: 9.3630e-04 - mae: 0.0266 - val_loss: 2.2309e-04 - val_mae: 0.0177\n",
      "Epoch 65/100\n",
      "80/80 [==============================] - 5s 66ms/step - loss: 9.3154e-04 - mae: 0.0266 - val_loss: 2.2961e-04 - val_mae: 0.0180\n",
      "Epoch 66/100\n",
      "80/80 [==============================] - 4s 55ms/step - loss: 9.2811e-04 - mae: 0.0266 - val_loss: 2.3767e-04 - val_mae: 0.0184\n",
      "Epoch 67/100\n",
      "80/80 [==============================] - 5s 56ms/step - loss: 9.2601e-04 - mae: 0.0267 - val_loss: 2.4713e-04 - val_mae: 0.0188\n",
      "Epoch 68/100\n",
      "80/80 [==============================] - 4s 55ms/step - loss: 9.2521e-04 - mae: 0.0268 - val_loss: 2.5801e-04 - val_mae: 0.0192\n",
      "Epoch 69/100\n",
      "80/80 [==============================] - 4s 55ms/step - loss: 9.2562e-04 - mae: 0.0269 - val_loss: 2.6981e-04 - val_mae: 0.0197\n",
      "Epoch 70/100\n",
      "80/80 [==============================] - 5s 58ms/step - loss: 9.2740e-04 - mae: 0.0271 - val_loss: 2.8183e-04 - val_mae: 0.0200\n",
      "Epoch 71/100\n",
      "80/80 [==============================] - 4s 55ms/step - loss: 9.3097e-04 - mae: 0.0272 - val_loss: 2.9347e-04 - val_mae: 0.0204\n",
      "Epoch 72/100\n",
      "80/80 [==============================] - 4s 55ms/step - loss: 9.3692e-04 - mae: 0.0274 - val_loss: 3.0386e-04 - val_mae: 0.0206\n",
      "Epoch 73/100\n",
      "80/80 [==============================] - 5s 57ms/step - loss: 9.4608e-04 - mae: 0.0276 - val_loss: 3.1202e-04 - val_mae: 0.0206\n",
      "Epoch 74/100\n",
      "80/80 [==============================] - 4s 56ms/step - loss: 9.5926e-04 - mae: 0.0279 - val_loss: 3.1552e-04 - val_mae: 0.0206\n",
      "Epoch 75/100\n",
      "80/80 [==============================] - 5s 60ms/step - loss: 9.7696e-04 - mae: 0.0281 - val_loss: 3.1218e-04 - val_mae: 0.0207\n",
      "Epoch 76/100\n",
      "80/80 [==============================] - 5s 57ms/step - loss: 9.9879e-04 - mae: 0.0284 - val_loss: 3.0422e-04 - val_mae: 0.0207\n",
      "Epoch 77/100\n",
      "80/80 [==============================] - 4s 55ms/step - loss: 0.0010 - mae: 0.0285 - val_loss: 2.9754e-04 - val_mae: 0.0207\n",
      "Epoch 78/100\n",
      "80/80 [==============================] - 4s 56ms/step - loss: 0.0010 - mae: 0.0285 - val_loss: 2.9481e-04 - val_mae: 0.0206\n",
      "Epoch 79/100\n",
      "80/80 [==============================] - 4s 56ms/step - loss: 0.0011 - mae: 0.0283 - val_loss: 2.9196e-04 - val_mae: 0.0205\n",
      "Epoch 80/100\n",
      "80/80 [==============================] - 4s 55ms/step - loss: 0.0010 - mae: 0.0281 - val_loss: 2.8382e-04 - val_mae: 0.0200\n",
      "Epoch 81/100\n",
      "80/80 [==============================] - 4s 55ms/step - loss: 0.0010 - mae: 0.0279 - val_loss: 2.7011e-04 - val_mae: 0.0193\n",
      "Epoch 82/100\n",
      "80/80 [==============================] - 4s 56ms/step - loss: 0.0010 - mae: 0.0277 - val_loss: 2.5320e-04 - val_mae: 0.0186\n",
      "Epoch 83/100\n",
      "80/80 [==============================] - 4s 54ms/step - loss: 9.9539e-04 - mae: 0.0275 - val_loss: 2.3158e-04 - val_mae: 0.0176\n",
      "Epoch 84/100\n",
      "80/80 [==============================] - 4s 54ms/step - loss: 9.7554e-04 - mae: 0.0273 - val_loss: 2.0863e-04 - val_mae: 0.0166\n",
      "Epoch 85/100\n",
      "80/80 [==============================] - 5s 56ms/step - loss: 9.5887e-04 - mae: 0.0272 - val_loss: 1.8750e-04 - val_mae: 0.0156\n",
      "Epoch 86/100\n",
      "80/80 [==============================] - 5s 61ms/step - loss: 9.4682e-04 - mae: 0.0271 - val_loss: 1.6982e-04 - val_mae: 0.0149\n",
      "Epoch 87/100\n",
      "80/80 [==============================] - 7s 85ms/step - loss: 9.3833e-04 - mae: 0.0270 - val_loss: 1.5504e-04 - val_mae: 0.0142\n",
      "Epoch 88/100\n",
      "80/80 [==============================] - 7s 84ms/step - loss: 9.3168e-04 - mae: 0.0270 - val_loss: 1.4264e-04 - val_mae: 0.0136\n",
      "Epoch 89/100\n",
      "80/80 [==============================] - 7s 90ms/step - loss: 9.2552e-04 - mae: 0.0269 - val_loss: 1.3226e-04 - val_mae: 0.0131\n",
      "Epoch 90/100\n",
      "80/80 [==============================] - 5s 62ms/step - loss: 9.1881e-04 - mae: 0.0268 - val_loss: 1.2357e-04 - val_mae: 0.0126\n",
      "Epoch 91/100\n",
      "80/80 [==============================] - 5s 60ms/step - loss: 9.1104e-04 - mae: 0.0266 - val_loss: 1.1623e-04 - val_mae: 0.0121\n",
      "Epoch 92/100\n",
      "80/80 [==============================] - 5s 61ms/step - loss: 9.0230e-04 - mae: 0.0264 - val_loss: 1.1003e-04 - val_mae: 0.0117\n",
      "Epoch 93/100\n",
      "80/80 [==============================] - 5s 58ms/step - loss: 8.9297e-04 - mae: 0.0262 - val_loss: 1.0473e-04 - val_mae: 0.0114\n",
      "Epoch 94/100\n",
      "80/80 [==============================] - 5s 57ms/step - loss: 8.8350e-04 - mae: 0.0259 - val_loss: 1.0019e-04 - val_mae: 0.0111\n",
      "Epoch 95/100\n",
      "80/80 [==============================] - 5s 58ms/step - loss: 8.7429e-04 - mae: 0.0257 - val_loss: 9.6296e-05 - val_mae: 0.0108\n",
      "Epoch 96/100\n",
      "80/80 [==============================] - 4s 55ms/step - loss: 8.6559e-04 - mae: 0.0255 - val_loss: 9.2911e-05 - val_mae: 0.0106\n",
      "Epoch 97/100\n",
      "80/80 [==============================] - 5s 57ms/step - loss: 8.5749e-04 - mae: 0.0253 - val_loss: 8.9924e-05 - val_mae: 0.0104\n",
      "Epoch 98/100\n",
      "80/80 [==============================] - 5s 56ms/step - loss: 8.4998e-04 - mae: 0.0251 - val_loss: 8.7230e-05 - val_mae: 0.0103\n",
      "Epoch 99/100\n",
      "80/80 [==============================] - 4s 55ms/step - loss: 8.4300e-04 - mae: 0.0249 - val_loss: 8.4765e-05 - val_mae: 0.0101\n",
      "Epoch 100/100\n",
      "80/80 [==============================] - 5s 58ms/step - loss: 8.3646e-04 - mae: 0.0247 - val_loss: 8.2496e-05 - val_mae: 0.0100\n"
     ]
    }
   ],
   "source": [
    "model4 = tf.keras.models.Sequential([\n",
    "  tf.keras.layers.LSTM(750),\n",
    "  tf.keras.layers.Dense(8),\n",
    "])\n",
    "\n",
    "optimizer = tf.keras.optimizers.Adamax(learning_rate= 5e-4)\n",
    "model4.compile(loss=tf.keras.losses.Huber(),\n",
    "              optimizer=optimizer,\n",
    "              metrics=[\"mae\"])\n",
    "history4 = model4.fit(train, epochs=100, validation_data= val,\n",
    "                     )"
   ]
  },
  {
   "cell_type": "code",
   "execution_count": 56,
   "id": "7313e25a-852b-49b6-b14c-96fbe5b134e2",
   "metadata": {
    "collapsed": true,
    "jupyter": {
     "outputs_hidden": true
    },
    "tags": []
   },
   "outputs": [
    {
     "name": "stdout",
     "output_type": "stream",
     "text": [
      "Epoch 1/10\n",
      "80/80 [==============================] - 9s 64ms/step - loss: 0.0720 - mae: 0.2720 - val_loss: 0.0011 - val_mae: 0.0358\n",
      "Epoch 2/10\n",
      "80/80 [==============================] - 5s 57ms/step - loss: 0.0092 - mae: 0.0805 - val_loss: 8.4027e-04 - val_mae: 0.0280\n",
      "Epoch 3/10\n",
      "80/80 [==============================] - 5s 66ms/step - loss: 0.0082 - mae: 0.0788 - val_loss: 8.3311e-04 - val_mae: 0.0286\n",
      "Epoch 4/10\n",
      "80/80 [==============================] - 5s 61ms/step - loss: 0.0078 - mae: 0.0765 - val_loss: 8.3965e-04 - val_mae: 0.0295\n",
      "Epoch 5/10\n",
      "80/80 [==============================] - 7s 82ms/step - loss: 0.0073 - mae: 0.0741 - val_loss: 8.5139e-04 - val_mae: 0.0306\n",
      "Epoch 6/10\n",
      "80/80 [==============================] - 7s 89ms/step - loss: 0.0068 - mae: 0.0717 - val_loss: 8.6791e-04 - val_mae: 0.0317\n",
      "Epoch 7/10\n",
      "80/80 [==============================] - 5s 58ms/step - loss: 0.0063 - mae: 0.0691 - val_loss: 8.8584e-04 - val_mae: 0.0327\n",
      "Epoch 8/10\n",
      "80/80 [==============================] - 5s 60ms/step - loss: 0.0059 - mae: 0.0665 - val_loss: 8.9973e-04 - val_mae: 0.0335\n",
      "Epoch 9/10\n",
      "80/80 [==============================] - 5s 62ms/step - loss: 0.0054 - mae: 0.0638 - val_loss: 9.0170e-04 - val_mae: 0.0340\n",
      "Epoch 10/10\n",
      "80/80 [==============================] - 5s 58ms/step - loss: 0.0049 - mae: 0.0610 - val_loss: 8.8762e-04 - val_mae: 0.0339\n"
     ]
    }
   ],
   "source": [
    "model4 = tf.keras.models.Sequential([\n",
    "  tf.keras.layers.LSTM(750, input_shape=[1,8]),\n",
    "  tf.keras.layers.Dense(8),\n",
    "])\n",
    "\n",
    "optimizer = tf.keras.optimizers.Adamax(learning_rate= 5e-4)\n",
    "model4.compile(loss=tf.keras.losses.Huber(),\n",
    "              optimizer=optimizer,\n",
    "              metrics=[\"mae\"])\n",
    "history4 = model4.fit(train, epochs=10, validation_data= val,\n",
    "                     )"
   ]
  },
  {
   "cell_type": "code",
   "execution_count": 7,
   "id": "4cd35628-8b84-432c-a344-5c392be4981e",
   "metadata": {
    "collapsed": true,
    "jupyter": {
     "outputs_hidden": true
    },
    "tags": []
   },
   "outputs": [
    {
     "name": "stdout",
     "output_type": "stream",
     "text": [
      "Epoch 1/100\n",
      "80/80 [==============================] - 11s 71ms/step - loss: 0.0762 - mae: 0.2832 - val_loss: 0.0011 - val_mae: 0.0386\n",
      "Epoch 2/100\n",
      "80/80 [==============================] - 5s 57ms/step - loss: 0.0092 - mae: 0.0796 - val_loss: 7.6796e-04 - val_mae: 0.0266\n",
      "Epoch 3/100\n",
      "80/80 [==============================] - 4s 55ms/step - loss: 0.0081 - mae: 0.0778 - val_loss: 7.5979e-04 - val_mae: 0.0270\n",
      "Epoch 4/100\n",
      "80/80 [==============================] - 4s 56ms/step - loss: 0.0077 - mae: 0.0758 - val_loss: 7.6584e-04 - val_mae: 0.0278\n",
      "Epoch 5/100\n",
      "80/80 [==============================] - 5s 56ms/step - loss: 0.0073 - mae: 0.0736 - val_loss: 7.8114e-04 - val_mae: 0.0291\n",
      "Epoch 6/100\n",
      "80/80 [==============================] - 6s 72ms/step - loss: 0.0068 - mae: 0.0714 - val_loss: 8.0364e-04 - val_mae: 0.0304\n",
      "Epoch 7/100\n",
      "80/80 [==============================] - 5s 67ms/step - loss: 0.0063 - mae: 0.0691 - val_loss: 8.3043e-04 - val_mae: 0.0316\n",
      "Epoch 8/100\n",
      "80/80 [==============================] - 5s 57ms/step - loss: 0.0059 - mae: 0.0667 - val_loss: 8.5566e-04 - val_mae: 0.0326\n",
      "Epoch 9/100\n",
      "80/80 [==============================] - 4s 55ms/step - loss: 0.0054 - mae: 0.0643 - val_loss: 8.7115e-04 - val_mae: 0.0333\n",
      "Epoch 10/100\n",
      "80/80 [==============================] - 4s 52ms/step - loss: 0.0049 - mae: 0.0617 - val_loss: 8.6972e-04 - val_mae: 0.0335\n",
      "Epoch 11/100\n",
      "80/80 [==============================] - 5s 59ms/step - loss: 0.0045 - mae: 0.0590 - val_loss: 8.4989e-04 - val_mae: 0.0332\n",
      "Epoch 12/100\n",
      "80/80 [==============================] - 5s 60ms/step - loss: 0.0041 - mae: 0.0564 - val_loss: 8.1659e-04 - val_mae: 0.0325\n",
      "Epoch 13/100\n",
      "80/80 [==============================] - 5s 67ms/step - loss: 0.0037 - mae: 0.0542 - val_loss: 7.7812e-04 - val_mae: 0.0315\n",
      "Epoch 14/100\n",
      "80/80 [==============================] - 6s 71ms/step - loss: 0.0034 - mae: 0.0520 - val_loss: 7.4038e-04 - val_mae: 0.0306\n",
      "Epoch 15/100\n",
      "80/80 [==============================] - 4s 54ms/step - loss: 0.0032 - mae: 0.0500 - val_loss: 7.0531e-04 - val_mae: 0.0298\n",
      "Epoch 16/100\n",
      "80/80 [==============================] - 4s 54ms/step - loss: 0.0029 - mae: 0.0480 - val_loss: 6.7137e-04 - val_mae: 0.0290\n",
      "Epoch 17/100\n",
      "80/80 [==============================] - 4s 56ms/step - loss: 0.0028 - mae: 0.0461 - val_loss: 6.3654e-04 - val_mae: 0.0282\n",
      "Epoch 18/100\n",
      "80/80 [==============================] - 4s 55ms/step - loss: 0.0026 - mae: 0.0442 - val_loss: 5.9920e-04 - val_mae: 0.0273\n",
      "Epoch 19/100\n",
      "80/80 [==============================] - 4s 54ms/step - loss: 0.0025 - mae: 0.0424 - val_loss: 5.6033e-04 - val_mae: 0.0263\n",
      "Epoch 20/100\n",
      "80/80 [==============================] - 4s 56ms/step - loss: 0.0023 - mae: 0.0408 - val_loss: 5.2128e-04 - val_mae: 0.0252\n",
      "Epoch 21/100\n",
      "80/80 [==============================] - 5s 61ms/step - loss: 0.0022 - mae: 0.0393 - val_loss: 4.8319e-04 - val_mae: 0.0241\n",
      "Epoch 22/100\n",
      "80/80 [==============================] - 5s 63ms/step - loss: 0.0021 - mae: 0.0380 - val_loss: 4.4658e-04 - val_mae: 0.0231\n",
      "Epoch 23/100\n",
      "80/80 [==============================] - 4s 50ms/step - loss: 0.0020 - mae: 0.0369 - val_loss: 4.1161e-04 - val_mae: 0.0221\n",
      "Epoch 24/100\n",
      "80/80 [==============================] - 4s 49ms/step - loss: 0.0019 - mae: 0.0358 - val_loss: 3.7826e-04 - val_mae: 0.0212\n",
      "Epoch 25/100\n",
      "80/80 [==============================] - 4s 50ms/step - loss: 0.0018 - mae: 0.0348 - val_loss: 3.4663e-04 - val_mae: 0.0203\n",
      "Epoch 26/100\n",
      "80/80 [==============================] - 5s 65ms/step - loss: 0.0017 - mae: 0.0338 - val_loss: 3.1661e-04 - val_mae: 0.0194\n",
      "Epoch 27/100\n",
      "80/80 [==============================] - 4s 53ms/step - loss: 0.0016 - mae: 0.0329 - val_loss: 2.8826e-04 - val_mae: 0.0186\n",
      "Epoch 28/100\n",
      "80/80 [==============================] - 4s 50ms/step - loss: 0.0015 - mae: 0.0320 - val_loss: 2.6185e-04 - val_mae: 0.0177\n",
      "Epoch 29/100\n",
      "80/80 [==============================] - 4s 52ms/step - loss: 0.0015 - mae: 0.0312 - val_loss: 2.3785e-04 - val_mae: 0.0168\n",
      "Epoch 30/100\n",
      "80/80 [==============================] - 4s 52ms/step - loss: 0.0014 - mae: 0.0305 - val_loss: 2.1703e-04 - val_mae: 0.0159\n",
      "Epoch 31/100\n",
      "80/80 [==============================] - 4s 51ms/step - loss: 0.0014 - mae: 0.0299 - val_loss: 1.9988e-04 - val_mae: 0.0150\n",
      "Epoch 32/100\n",
      "80/80 [==============================] - 4s 53ms/step - loss: 0.0013 - mae: 0.0294 - val_loss: 1.8610e-04 - val_mae: 0.0144\n",
      "Epoch 33/100\n",
      "80/80 [==============================] - 4s 50ms/step - loss: 0.0013 - mae: 0.0291 - val_loss: 1.7504e-04 - val_mae: 0.0140\n",
      "Epoch 34/100\n",
      "80/80 [==============================] - 4s 50ms/step - loss: 0.0013 - mae: 0.0289 - val_loss: 1.6607e-04 - val_mae: 0.0137\n",
      "Epoch 35/100\n",
      "80/80 [==============================] - 4s 51ms/step - loss: 0.0013 - mae: 0.0288 - val_loss: 1.5874e-04 - val_mae: 0.0134\n",
      "Epoch 36/100\n",
      "80/80 [==============================] - 4s 49ms/step - loss: 0.0012 - mae: 0.0288 - val_loss: 1.5272e-04 - val_mae: 0.0132\n",
      "Epoch 37/100\n",
      "80/80 [==============================] - 4s 51ms/step - loss: 0.0012 - mae: 0.0288 - val_loss: 1.4779e-04 - val_mae: 0.0130\n",
      "Epoch 38/100\n",
      "80/80 [==============================] - 4s 51ms/step - loss: 0.0012 - mae: 0.0287 - val_loss: 1.4366e-04 - val_mae: 0.0128\n",
      "Epoch 39/100\n",
      "80/80 [==============================] - 4s 49ms/step - loss: 0.0012 - mae: 0.0287 - val_loss: 1.4032e-04 - val_mae: 0.0127\n",
      "Epoch 40/100\n",
      "80/80 [==============================] - 4s 50ms/step - loss: 0.0012 - mae: 0.0286 - val_loss: 1.3744e-04 - val_mae: 0.0126\n",
      "Epoch 41/100\n",
      "80/80 [==============================] - 4s 54ms/step - loss: 0.0012 - mae: 0.0286 - val_loss: 1.3492e-04 - val_mae: 0.0125\n",
      "Epoch 42/100\n",
      "80/80 [==============================] - 4s 52ms/step - loss: 0.0012 - mae: 0.0284 - val_loss: 1.3270e-04 - val_mae: 0.0124\n",
      "Epoch 43/100\n",
      "80/80 [==============================] - 4s 49ms/step - loss: 0.0011 - mae: 0.0283 - val_loss: 1.3077e-04 - val_mae: 0.0123\n",
      "Epoch 44/100\n",
      "80/80 [==============================] - 4s 51ms/step - loss: 0.0011 - mae: 0.0282 - val_loss: 1.2910e-04 - val_mae: 0.0123\n",
      "Epoch 45/100\n",
      "80/80 [==============================] - 4s 48ms/step - loss: 0.0011 - mae: 0.0281 - val_loss: 1.2789e-04 - val_mae: 0.0122\n",
      "Epoch 46/100\n",
      "80/80 [==============================] - 4s 49ms/step - loss: 0.0011 - mae: 0.0281 - val_loss: 1.2755e-04 - val_mae: 0.0122\n",
      "Epoch 47/100\n",
      "80/80 [==============================] - 4s 50ms/step - loss: 0.0011 - mae: 0.0281 - val_loss: 1.2815e-04 - val_mae: 0.0122\n",
      "Epoch 48/100\n",
      "80/80 [==============================] - 4s 52ms/step - loss: 0.0011 - mae: 0.0281 - val_loss: 1.2982e-04 - val_mae: 0.0123\n",
      "Epoch 49/100\n",
      "80/80 [==============================] - 4s 50ms/step - loss: 0.0011 - mae: 0.0281 - val_loss: 1.3263e-04 - val_mae: 0.0125\n",
      "Epoch 50/100\n",
      "80/80 [==============================] - 4s 51ms/step - loss: 0.0011 - mae: 0.0282 - val_loss: 1.3706e-04 - val_mae: 0.0127\n",
      "Epoch 51/100\n",
      "80/80 [==============================] - 4s 51ms/step - loss: 0.0011 - mae: 0.0282 - val_loss: 1.4369e-04 - val_mae: 0.0131\n",
      "Epoch 52/100\n",
      "80/80 [==============================] - 4s 53ms/step - loss: 0.0011 - mae: 0.0283 - val_loss: 1.5272e-04 - val_mae: 0.0135\n",
      "Epoch 53/100\n",
      "80/80 [==============================] - 4s 49ms/step - loss: 0.0010 - mae: 0.0283 - val_loss: 1.6333e-04 - val_mae: 0.0141\n",
      "Epoch 54/100\n",
      "80/80 [==============================] - 4s 53ms/step - loss: 0.0010 - mae: 0.0283 - val_loss: 1.7440e-04 - val_mae: 0.0147\n",
      "Epoch 55/100\n",
      "80/80 [==============================] - 4s 51ms/step - loss: 0.0010 - mae: 0.0283 - val_loss: 1.8463e-04 - val_mae: 0.0152\n",
      "Epoch 56/100\n",
      "80/80 [==============================] - 4s 48ms/step - loss: 0.0010 - mae: 0.0282 - val_loss: 1.9277e-04 - val_mae: 0.0155\n",
      "Epoch 57/100\n",
      "80/80 [==============================] - 4s 50ms/step - loss: 0.0010 - mae: 0.0280 - val_loss: 1.9823e-04 - val_mae: 0.0158\n",
      "Epoch 58/100\n",
      "80/80 [==============================] - 5s 57ms/step - loss: 0.0010 - mae: 0.0279 - val_loss: 2.0090e-04 - val_mae: 0.0159\n",
      "Epoch 59/100\n",
      "80/80 [==============================] - 4s 53ms/step - loss: 9.9990e-04 - mae: 0.0277 - val_loss: 2.0113e-04 - val_mae: 0.0158\n",
      "Epoch 60/100\n",
      "80/80 [==============================] - 4s 53ms/step - loss: 9.8814e-04 - mae: 0.0275 - val_loss: 1.9974e-04 - val_mae: 0.0158\n"
     ]
    }
   ],
   "source": [
    "model = models.model(train_data= train,val_data= val,test_data= None)\n",
    "models.save_model(model,no_case= 0, no_model= 1 , vf_case=None)"
   ]
  },
  {
   "cell_type": "code",
   "execution_count": 32,
   "id": "1b5ad025-e1b7-4a99-8f17-cea0999a4c72",
   "metadata": {},
   "outputs": [
    {
     "name": "stdout",
     "output_type": "stream",
     "text": [
      "Model: \"sequential\"\n",
      "_________________________________________________________________\n",
      " Layer (type)                Output Shape              Param #   \n",
      "=================================================================\n",
      " lstm (LSTM)                 (None, 750)               2277000   \n",
      "                                                                 \n",
      " dense (Dense)               (None, 8)                 6008      \n",
      "                                                                 \n",
      "=================================================================\n",
      "Total params: 2,283,008\n",
      "Trainable params: 2,283,008\n",
      "Non-trainable params: 0\n",
      "_________________________________________________________________\n",
      "None\n",
      "----------------\n",
      "80/80 - 2s - loss: 0.0011 - mae: 0.0237 - 2s/epoch - 30ms/step\n"
     ]
    }
   ],
   "source": [
    "import tensorflow as tf\n",
    "model = tf.keras.models.load_model(os.path.join(ph.GetModelsData(),'LSTM01.h5'))\n",
    "print(model.summary())\n",
    "print('----------------')\n",
    "loss, mae  = model.evaluate(train, verbose=2)"
   ]
  },
  {
   "cell_type": "code",
   "execution_count": 33,
   "id": "98dbdcd4-f502-4fc3-bcd3-079b33bc4244",
   "metadata": {},
   "outputs": [
    {
     "data": {
      "text/plain": [
       "<module 'TA_LSTMxFlutter.Training.models' from 'C:\\\\Users\\\\User\\\\Desktop\\\\Jupyter\\\\TA\\\\TA_LSTMxFlutter\\\\Training\\\\models.py'>"
      ]
     },
     "execution_count": 33,
     "metadata": {},
     "output_type": "execute_result"
    }
   ],
   "source": [
    "importlib.reload(gp)\n",
    "importlib.reload(dp)\n",
    "importlib.reload(tp)\n",
    "importlib.reload(mp)\n",
    "importlib.reload(ph)\n",
    "importlib.reload(models)"
   ]
  },
  {
   "cell_type": "code",
   "execution_count": 31,
   "id": "daf640a4-e94b-4f14-a340-08ca7471b4a2",
   "metadata": {},
   "outputs": [
    {
     "name": "stdout",
     "output_type": "stream",
     "text": [
      "Model: \"sequential\"\n",
      "_________________________________________________________________\n",
      " Layer (type)                Output Shape              Param #   \n",
      "=================================================================\n",
      " lstm (LSTM)                 (None, 750)               2277000   \n",
      "                                                                 \n",
      " dense (Dense)               (None, 8)                 6008      \n",
      "                                                                 \n",
      "=================================================================\n",
      "Total params: 2,283,008\n",
      "Trainable params: 2,283,008\n",
      "Non-trainable params: 0\n",
      "_________________________________________________________________\n",
      "None\n",
      "---------------------------------------------------------------------------\n",
      "Model`s loss: 0.0010998245561495423 \n",
      " Model`s MAE: 0.023736998438835144\n"
     ]
    }
   ],
   "source": [
    "model, models_perform = models.load_and_evaluate(file='LSTM01.h5', test_file='CL_CD_Mach_Variation.csv', type='train')"
   ]
  },
  {
   "cell_type": "code",
   "execution_count": 37,
   "id": "ec2784b0-18ca-42cf-97e2-6bbe6975dde3",
   "metadata": {},
   "outputs": [
    {
     "ename": "KeyError",
     "evalue": "'mae'",
     "output_type": "error",
     "traceback": [
      "\u001b[1;31m---------------------------------------------------------------------------\u001b[0m",
      "\u001b[1;31mKeyError\u001b[0m                                  Traceback (most recent call last)",
      "\u001b[1;32m~\\AppData\\Local\\Temp/ipykernel_17700/3227122100.py\u001b[0m in \u001b[0;36m<module>\u001b[1;34m\u001b[0m\n\u001b[1;32m----> 1\u001b[1;33m \u001b[0mmp\u001b[0m\u001b[1;33m.\u001b[0m\u001b[0mhistory_plot\u001b[0m\u001b[1;33m(\u001b[0m\u001b[0mmodel\u001b[0m\u001b[1;33m.\u001b[0m\u001b[0mhistory\u001b[0m\u001b[1;33m)\u001b[0m\u001b[1;33m\u001b[0m\u001b[1;33m\u001b[0m\u001b[0m\n\u001b[0m",
      "\u001b[1;32m~\\Desktop\\Jupyter\\TA\\TA_LSTMxFlutter\\Plotting\\models_plot.py\u001b[0m in \u001b[0;36mhistory_plot\u001b[1;34m(history, path)\u001b[0m\n\u001b[0;32m      6\u001b[0m \u001b[1;32mdef\u001b[0m \u001b[0mhistory_plot\u001b[0m\u001b[1;33m(\u001b[0m\u001b[0mhistory\u001b[0m\u001b[1;33m,\u001b[0m \u001b[0mpath\u001b[0m \u001b[1;33m=\u001b[0m \u001b[0mph\u001b[0m\u001b[1;33m.\u001b[0m\u001b[0mGetModelPerformancesData\u001b[0m\u001b[1;33m(\u001b[0m\u001b[1;33m)\u001b[0m\u001b[1;33m)\u001b[0m\u001b[1;33m:\u001b[0m\u001b[1;33m\u001b[0m\u001b[1;33m\u001b[0m\u001b[0m\n\u001b[0;32m      7\u001b[0m   \u001b[1;34m'''Plots the training and validation loss and mae from a history object'''\u001b[0m\u001b[1;33m\u001b[0m\u001b[1;33m\u001b[0m\u001b[0m\n\u001b[1;32m----> 8\u001b[1;33m   \u001b[0mmae\u001b[0m \u001b[1;33m=\u001b[0m \u001b[0mhistory\u001b[0m\u001b[1;33m.\u001b[0m\u001b[0mhistory\u001b[0m\u001b[1;33m[\u001b[0m\u001b[1;34m'mae'\u001b[0m\u001b[1;33m]\u001b[0m\u001b[1;33m\u001b[0m\u001b[1;33m\u001b[0m\u001b[0m\n\u001b[0m\u001b[0;32m      9\u001b[0m   \u001b[0mval_mae\u001b[0m \u001b[1;33m=\u001b[0m \u001b[0mhistory\u001b[0m\u001b[1;33m.\u001b[0m\u001b[0mhistory\u001b[0m\u001b[1;33m[\u001b[0m\u001b[1;34m'val_mae'\u001b[0m\u001b[1;33m]\u001b[0m\u001b[1;33m\u001b[0m\u001b[1;33m\u001b[0m\u001b[0m\n\u001b[0;32m     10\u001b[0m   \u001b[0mloss\u001b[0m \u001b[1;33m=\u001b[0m \u001b[0mhistory\u001b[0m\u001b[1;33m.\u001b[0m\u001b[0mhistory\u001b[0m\u001b[1;33m[\u001b[0m\u001b[1;34m'loss'\u001b[0m\u001b[1;33m]\u001b[0m\u001b[1;33m\u001b[0m\u001b[1;33m\u001b[0m\u001b[0m\n",
      "\u001b[1;31mKeyError\u001b[0m: 'mae'"
     ]
    }
   ],
   "source": [
    "mp.history_plot(model.history)"
   ]
  },
  {
   "cell_type": "code",
   "execution_count": 42,
   "id": "f05aa9c4-1f33-409d-bcd0-e3a0f815da1c",
   "metadata": {},
   "outputs": [
    {
     "ename": "AttributeError",
     "evalue": "'History' object has no attribute 'keys'",
     "output_type": "error",
     "traceback": [
      "\u001b[1;31m---------------------------------------------------------------------------\u001b[0m",
      "\u001b[1;31mAttributeError\u001b[0m                            Traceback (most recent call last)",
      "\u001b[1;32m~\\AppData\\Local\\Temp/ipykernel_17700/341205197.py\u001b[0m in \u001b[0;36m<module>\u001b[1;34m\u001b[0m\n\u001b[1;32m----> 1\u001b[1;33m \u001b[0mmodel\u001b[0m\u001b[1;33m.\u001b[0m\u001b[0mhistory\u001b[0m\u001b[1;33m.\u001b[0m\u001b[0mkeys\u001b[0m\u001b[1;33m(\u001b[0m\u001b[1;33m)\u001b[0m\u001b[1;33m\u001b[0m\u001b[1;33m\u001b[0m\u001b[0m\n\u001b[0m",
      "\u001b[1;31mAttributeError\u001b[0m: 'History' object has no attribute 'keys'"
     ]
    }
   ],
   "source": [
    "model.history.keys()"
   ]
  },
  {
   "cell_type": "code",
   "execution_count": null,
   "id": "4fe4d20c-d98d-4606-94bc-07181e7bb68d",
   "metadata": {},
   "outputs": [],
   "source": []
  }
 ],
 "metadata": {
  "kernelspec": {
   "display_name": "Python 3 (ipykernel)",
   "language": "python",
   "name": "python3"
  },
  "language_info": {
   "codemirror_mode": {
    "name": "ipython",
    "version": 3
   },
   "file_extension": ".py",
   "mimetype": "text/x-python",
   "name": "python",
   "nbconvert_exporter": "python",
   "pygments_lexer": "ipython3",
   "version": "3.8.12"
  }
 },
 "nbformat": 4,
 "nbformat_minor": 5
}
